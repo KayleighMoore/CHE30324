{
 "cells": [
  {
   "cell_type": "markdown",
   "metadata": {},
   "source": [
    "# Chem 30324, Spring 2018, Homework 11\n"
   ]
  },
  {
   "cell_type": "markdown",
   "metadata": {},
   "source": [
    "# Due May 5 2018"
   ]
  },
  {
   "cell_type": "markdown",
   "metadata": {},
   "source": [
    "## Thermodynamics from scratch.\n",
    "### Let’s calculate the thermodynamic properties of an ideal gas of CO molecules at 1 bar pressure. CO has a rotational constant B = 1.931 cm$^{-1}$ and vibrational frequency ν = 2156.6 cm$^{-1}$ . Suppose you have a 20 dm$^3$ cubic bottle containing 1 mole of CO gas that you can consider to behave ideally."
   ]
  },
  {
   "cell_type": "markdown",
   "metadata": {},
   "source": [
    "### 1. The characteristic temperature $\\Theta$ of a particular degree of freedom is the characteristic quantum of energy for the degree of freedom divided by $k_B$ . Calculate the characteristic translational, rotational, and vibrational temperatures of CO."
   ]
  },
  {
   "cell_type": "markdown",
   "metadata": {},
   "source": [
    "### 2. Calculate the *translational partition function* of a CO molecule in the bottle at 298 K. What are the units of the partition function?"
   ]
  },
  {
   "cell_type": "markdown",
   "metadata": {},
   "source": [
    "### 3. Plot the *rotational and vibrational partition functions* of a CO molecule in the bottle from T = 200 to 2000 K (assume the CO remains a gas over the whole range). *Hint:* Use your answer to Problem 1 to simplify calculating the rotational partition function."
   ]
  },
  {
   "cell_type": "markdown",
   "metadata": {},
   "source": [
    "### 4. Plot the *total translational, rotational, and vibrational energies* of CO in the bottle from T = 200 to 2000 K (assume the CO remains a gas over the whole range). Which (if any) of the three types of motions dominate the total energy?"
   ]
  },
  {
   "cell_type": "markdown",
   "metadata": {},
   "source": [
    "### 5. Plot the *total translational, rotational, and vibrational constant volume molar heat capacities* of CO in the bottle from T = 200 to 2000 K. Which (if any) of the three types of motions dominate the heat capacity?"
   ]
  },
  {
   "cell_type": "markdown",
   "metadata": {},
   "source": [
    "### 6. Plot the *total translational, rotational, and vibrational Helmholtz energies* of CO in the bottle from T = 200 to 2000 K. Which (if any) of the three types of motions dominate the Helmholtz energy?"
   ]
  },
  {
   "cell_type": "markdown",
   "metadata": {},
   "source": [
    "### 7. Use your formulas to calculate $\\Delta$P, $\\Delta$U, $\\Delta$A, and $\\Delta$S associated with isothermally expanding the gas from 20 dm$^3$ to 40 dm$^3$."
   ]
  },
  {
   "cell_type": "markdown",
   "metadata": {},
   "source": [
    "## Equilibrium constants from first principles.\n",
    "### In 1996, Schneider and co-workers reported calculations on the energetics of decomposition of trifluoromethanol, a reaction of relevance to the atmospheric degradation of hydrofluorocarbon refrigerants (*J. Phys. Chem.* **1996**, *100*, 6097- 6103): $$CF_3OH\\rightarrow COF_2 + HF$$\n",
    "### Following are some of the reported results, computed at 298 K:"
   ]
  },
  {
   "cell_type": "markdown",
   "metadata": {},
   "source": [
    "![](imgs/HW11.png)"
   ]
  },
  {
   "cell_type": "markdown",
   "metadata": {},
   "source": [
    "### 8. Make a rough estimate of $\\Delta S^{\\circ}$(298 K), in J mol$^{-1}$ K $^{-1}$ , assuming a 1 bar standard state. (*Hint:* What degrees of freedom will dominate the entropy?)"
   ]
  },
  {
   "cell_type": "markdown",
   "metadata": {},
   "source": [
    "### 9. Using the data provided, determine $\\Delta U^{\\circ}$(298 K) and $\\Delta H^{\\circ}$(298 K), in kJ mol$^{-1}$."
   ]
  },
  {
   "cell_type": "markdown",
   "metadata": {},
   "source": [
    "### 10. Using the data provided, determine $K_c$ (298 K), assuming a 1 mole/liter standard state."
   ]
  },
  {
   "cell_type": "markdown",
   "metadata": {},
   "source": [
    "### 11. 1 mole of $CF_3OH$ is generated in a 20 L vessel at 298 K and left long enough to come to equilibrium with respect to its decomposition reaction. What is the composition of the gas (concentrations of all the components) at equilibrium (in mol/L)?"
   ]
  },
  {
   "cell_type": "markdown",
   "metadata": {},
   "source": [
    "### 12. How, directionally, would your answer to Question 11 change if the vessel was at a higher temperature? Why, in statistical mechanical terms?"
   ]
  },
  {
   "cell_type": "markdown",
   "metadata": {},
   "source": [
    "### 13. How, directionally, would your answer to Question 11 change if the vessel had a volume of 5 L? Why, in statistical mechanical terms?"
   ]
  },
  {
   "cell_type": "code",
   "execution_count": null,
   "metadata": {
    "collapsed": true
   },
   "outputs": [],
   "source": []
  }
 ],
 "metadata": {
  "anaconda-cloud": {},
  "kernelspec": {
   "display_name": "Python 3",
   "language": "python",
   "name": "python3"
  },
  "language_info": {
   "codemirror_mode": {
    "name": "ipython",
    "version": 3
   },
   "file_extension": ".py",
   "mimetype": "text/x-python",
   "name": "python",
   "nbconvert_exporter": "python",
   "pygments_lexer": "ipython3",
   "version": "3.6.3"
  }
 },
 "nbformat": 4,
 "nbformat_minor": 1
}
