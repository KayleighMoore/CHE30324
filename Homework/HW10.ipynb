{
 "cells": [
  {
   "cell_type": "markdown",
   "metadata": {},
   "source": [
    "# Chem 30324, Spring 2018, Homework 10\n"
   ]
  },
  {
   "cell_type": "markdown",
   "metadata": {},
   "source": [
    "# Due April 23, 2018\n"
   ]
  },
  {
   "cell_type": "markdown",
   "metadata": {},
   "source": [
    "## Computational chemistry. \n",
    "### Today properties of a molecule are more often than not calculated rather than inferred. Quantitative molecular quantum mechanical calculations require highly specialized numerical solvers like Gaussian (<https://www.gaussian.com>). Following are instructions for using Gaussian with the Webmo graphical interface (<https://www.webmo.net/demoserver/cgi-bin/webmo/login.cgi>)."
   ]
  },
  {
   "cell_type": "markdown",
   "metadata": {},
   "source": [
    "### Now, let’s set up your calculation (you may do this with a partner if you choose):\n",
    "1. Log into the Webmo server https://www.webmo.net/demoserver/cgi-bin/webmo/login.cgi using \"guest\" as your username and password.\n",
    "2. Select New Job-Creat New Job.\n",
    "3. Use the available tools to sketch a molecule.\n",
    "4. Use the right arrow at the bottom to proceed to the Computational Engines.\n",
    "5. Select the “B3LYP” functional and the appropriate basis set.\n",
    "6. Select the right arrow to run the calculation.\n",
    "7. From the job manager window choose the completed calculation to view the results."
   ]
  },
  {
   "cell_type": "markdown",
   "metadata": {},
   "source": [
    "The molecule you are to study depends on your last name. Choose according to the list:\n",
    "+ A-G: **CO**\n",
    "+ H-R: **BN**\n",
    "+ S-Z: **BeO**"
   ]
  },
  {
   "cell_type": "markdown",
   "metadata": {},
   "source": [
    "For your convenience, here are the total energies (in Hartree, 27.212 eV/Hartree) of the constituent atoms, calculated using the B3LYP DFT treatment of $v_{ee}$ and the “Routine” basis set:"
   ]
  },
  {
   "cell_type": "markdown",
   "metadata": {},
   "source": [
    "|Atom|Energy|Atom|Energy|\n",
    "|-|-|-|-|\n",
    "|B|–24.65435|N|–54.559498|\n",
    "|Be|–14.65446|O|–75.031179|\n",
    "|C|–37.68086|F|–99.681600|"
   ]
  },
  {
   "cell_type": "markdown",
   "metadata": {},
   "source": [
    "### 1. Construct a potential energy surface for your molecule. Using covalent radii, guess an approximate equilbrium bond length, and use the Webmo editor to draw the molecule with that length. Specify the “Molecular Energy” option to Gaussian and the “Routine” basis set for better accuracy. Calculate and plot out total molecular energy vs. bond distance in increments of 0.05 Å about your guessed minimum, including enough points to encompass the actual minimum. (You will find it convenient to subtract off the individual atom energies from the molecular total energy and to convert to more convenient units, like eV or kJ/mol.) By fitting the few points nearest the minimum, determine the equilibrium bond length. How does your result compare to literature?"
   ]
  },
  {
   "cell_type": "markdown",
   "metadata": {},
   "source": [
    "### 2. Use the quadratic fit from Question 1 to determine the harmonic vibrational frequency of your molecule, in cm$^{-1}$. Recall that the force constant is the second derivative of the energy at the minimum, and that the frequency (in wavenumbers) is related to the force constant according to $$\\tilde{\\nu} = \\frac{1}{2\\pi c}\\sqrt{\\frac{k}{\\mu}}$$"
   ]
  },
  {
   "cell_type": "markdown",
   "metadata": {},
   "source": [
    "### 3. Use your results to determine the zero-point-corrected bond energy of your molecule. How does this model compare with the experimental value?"
   ]
  },
  {
   "cell_type": "markdown",
   "metadata": {},
   "source": [
    "## The two-state system.\n",
    "### Consider a closed system containing $N$ objects, each of which can be in one of two energy states, of energy either 0 or $\\varepsilon$. The total internal energy $U$ of the box is the sum of the energies of the individual objects."
   ]
  },
  {
   "cell_type": "markdown",
   "metadata": {},
   "source": [
    "![Boltzmann](imgs/Boltzmann.png)"
   ]
  },
  {
   "cell_type": "markdown",
   "metadata": {},
   "source": [
    "### 4. Write down all the possible microstates for a box in which $N = 4$ and the internal energy $U = 2\\varepsilon$."
   ]
  },
  {
   "cell_type": "markdown",
   "metadata": {},
   "source": [
    "### 5. What does the postulate of *equal a priori probabilities* say about the relative likelihood of occurance of any one of these microstates?"
   ]
  },
  {
   "cell_type": "markdown",
   "metadata": {},
   "source": [
    "### 6. What is the entropy of the box? (Thank you, Ludwig Boltzmann.)"
   ]
  },
  {
   "cell_type": "markdown",
   "metadata": {},
   "source": [
    "### 7. Suppose two identical such boxes are brought into thermal contact. Calculate the change in internal energy $\\Delta U$ and in entropy $\\Delta S$ associated with this process."
   ]
  },
  {
   "cell_type": "markdown",
   "metadata": {},
   "source": [
    "## The canonical ensemble.\n",
    "### The energy spectrum of some molecule is described by the diagram below."
   ]
  },
  {
   "cell_type": "markdown",
   "metadata": {},
   "source": [
    "![Energy States](imgs/EnergyStates.png)"
   ]
  },
  {
   "cell_type": "markdown",
   "metadata": {},
   "source": [
    "### 8. Write the partition function $q$ for the molecular at thermal equilibrium at a temperature $\\beta = 1/k_BT$."
   ]
  },
  {
   "cell_type": "markdown",
   "metadata": {},
   "source": [
    "### 9. Plot the probability for the molecule to be in each of the three energy states vs. temperature. Be sure to indicate the probabilities in the limits of $T\\rightarrow 0$ and $T \\rightarrow \\infty$."
   ]
  },
  {
   "cell_type": "markdown",
   "metadata": {},
   "source": [
    "### 10. Derive an expression for the energy $U$ per molecule by summing over the possible microstates weighted by their probabilities. Plot the average energy vs. temperature."
   ]
  },
  {
   "cell_type": "markdown",
   "metadata": {},
   "source": [
    "### 11. Derive an expression for the energy $U$ per molecule by taking the appropriate derivative of the partition function from problem 8 (*Hint:* it is easier to work with the expressions in term of β than in $T$.) Does your result agree with that from problem 10?"
   ]
  },
  {
   "cell_type": "markdown",
   "metadata": {},
   "source": [
    "### 12. Derive an expression for the Helmholtz energy $A$ per molecule from the partition function. Plot $A$ vs. temperature, assuming $\\varepsilon/k_B = 300$ K."
   ]
  },
  {
   "cell_type": "markdown",
   "metadata": {},
   "source": [
    "### 13. Derive an expression for the entropy $S$ per molecules and plot vs. temperature, again assuming $\\varepsilon/k_B = 300$ K."
   ]
  },
  {
   "cell_type": "markdown",
   "metadata": {},
   "source": [
    "### 14. In class we took the First Law as a postulate and demonstrated the Second Law. Look at your results for Problems 9 and 13. Can you use them to rationalize the Third Law? Explain your answer."
   ]
  },
  {
   "cell_type": "code",
   "execution_count": null,
   "metadata": {
    "collapsed": true
   },
   "outputs": [],
   "source": []
  }
 ],
 "metadata": {
  "anaconda-cloud": {},
  "kernelspec": {
   "display_name": "Python [conda env:anaconda2]",
   "language": "python",
   "name": "conda-env-anaconda2-py"
  },
  "language_info": {
   "codemirror_mode": {
    "name": "ipython",
    "version": 2
   },
   "file_extension": ".py",
   "mimetype": "text/x-python",
   "name": "python",
   "nbconvert_exporter": "python",
   "pygments_lexer": "ipython2",
   "version": "2.7.14"
  }
 },
 "nbformat": 4,
 "nbformat_minor": 1
}
