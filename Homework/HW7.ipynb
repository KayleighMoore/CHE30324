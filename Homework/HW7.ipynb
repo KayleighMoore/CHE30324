{
 "cells": [
  {
   "cell_type": "markdown",
   "metadata": {},
   "source": [
    "# Chem 30324, Spring 2018, Homework 7\n",
    "\n",
    "# Due March 21, 2018"
   ]
  },
  {
   "cell_type": "code",
   "execution_count": null,
   "metadata": {
    "collapsed": true
   },
   "outputs": [],
   "source": []
  },
  {
   "cell_type": "markdown",
   "metadata": {},
   "source": [
    "### The diatomic nitric oxide (NO) is an unusual and important molecule. It has an odd number of electrons, which is a rarity for a stable molecule. It acts as a signaling molecule in the body, helping to regulate blood pressure, is a primary pollutant from combustion, and is a key constituent of smog. It exists in several isotopic forms, but the most common, ${}^{14}N={}^{16}O$, has a bond length of 1.15077 Å and harmonic vibrational frequency of 1904 cm$^{-1}$."
   ]
  },
  {
   "cell_type": "markdown",
   "metadata": {},
   "source": [
    "## NO goes for a spin"
   ]
  },
  {
   "cell_type": "markdown",
   "metadata": {},
   "source": [
    "### 1. Calculate the moment of inertia of ${}^{14}N= {}^{16}O$, in amu Å$^2$, and the rotational energy constant, $B$, in kJ mol$^{-1}$ and in cm$^{-1}$."
   ]
  },
  {
   "cell_type": "markdown",
   "metadata": {},
   "source": [
    "### 2. Imagine that the NO molecule is adsorbed flat on a surface upon which it is free to rotate. Plot out the energies of the four lowest-energy rotational quantum states, in units of $B$, being sure to include appropriate quantum numbers and degeneracies. Also indicate the total rotational angular moment of each state, in units of $\\hbar$."
   ]
  },
  {
   "cell_type": "markdown",
   "metadata": {},
   "source": [
    "### 3. Derive a selection rule for light-induced excitation of the plane-spinning NO molecule. *Hint:* Treat the NO as a 2-D rotor. Find the conditions on $\\Delta m_l$ that make the transition dipole moment integral $\\langle\\psi_{m_l}\\lvert x\\rvert\\psi_{m_l'}\\rangle$ non-zero. Recall that x can be written r cos φ in polar coordinates."
   ]
  },
  {
   "cell_type": "markdown",
   "metadata": {},
   "source": [
    "### 4. Now imagine the NO molecule is free to rotate in three-dimensional space. As in Question 2 above, plot out the energies of the four lowest-energy rotational quantum states, in units of $B$, being sure to include appropriate quantum numbers and degeneracies. Also indicate the total rotational angular moment of each state, in units of $\\hbar$."
   ]
  },
  {
   "cell_type": "markdown",
   "metadata": {},
   "source": [
    "### 5. Use the vector model to sketch the total angular momentum vectors consistent with $l = 1$."
   ]
  },
  {
   "cell_type": "markdown",
   "metadata": {},
   "source": [
    "### 6. Predict the *positions* of the four lowest energy lines in the pure rotational spectrum of ${}^{14}N= {}^{16}O$, cm$^{-1}$."
   ]
  },
  {
   "cell_type": "markdown",
   "metadata": {},
   "source": [
    "### 7. Predict the *relative intensities* of the first 4 lines in the pure rotational spectrum of gaseous ${}^{14}N= {}^{16}O$ at 298 K. Recall that the intensities depend on the difference in populations of the initial ($l$) and final ($l'$) states, according to $g(l)\\left (e^{-\\varepsilon(l)/k_BT} - e^{-\\varepsilon(l')/k_BT}\\right)$."
   ]
  },
  {
   "cell_type": "markdown",
   "metadata": {},
   "source": [
    "## NO takes a stretch"
   ]
  },
  {
   "cell_type": "markdown",
   "metadata": {},
   "source": [
    "### 8. Do you expect NO to exhibit an infrared absorption vibrational spectrum? Why or why not? If so, what initial and final vibrational states contribute most significantly to the spectrum?"
   ]
  },
  {
   "cell_type": "markdown",
   "metadata": {},
   "source": [
    "### 9. Do you expect NO to exhibit a Raman vibrational spectrum? Why or why not? If so, what initial and final vibrational states contribute most significantly to the spectrum?"
   ]
  },
  {
   "cell_type": "markdown",
   "metadata": {},
   "source": [
    "### 10. Predict the positions of the central four lines in the rovibrational spectrum of ${}^{14}N= {}^{16}O$."
   ]
  },
  {
   "cell_type": "markdown",
   "metadata": {},
   "source": [
    "### 11. NO$_2$ readily forms from NO in the presence of oxygen. An infrared spectrum of NO$_2$ has three features, at 1318, 750, and 1618 cm$^{-1}$ . Is NO$_2$ a linear or bent molecule? Justify your answer."
   ]
  },
  {
   "cell_type": "markdown",
   "metadata": {
    "collapsed": true
   },
   "source": [
    "## I see the light!"
   ]
  },
  {
   "cell_type": "markdown",
   "metadata": {},
   "source": [
    "### 12. What is the difference between stimulated absorption and stimulated emission? How do the intrinsic rates of these two processes compare?"
   ]
  },
  {
   "cell_type": "markdown",
   "metadata": {},
   "source": [
    "### 13. Under which of Einstein’s categories does “fluorescence” belong? Fluorescence is often used to study transitions with energies of a couple eV or more (corresponding to visible or higher energy light), but seldom/never used to study infrared or similar low energy (fractions of an eV) processes. Give a couple reasons why."
   ]
  }
 ],
 "metadata": {
  "anaconda-cloud": {},
  "kernelspec": {
   "display_name": "Python [default]",
   "language": "python",
   "name": "python3"
  },
  "language_info": {
   "codemirror_mode": {
    "name": "ipython",
    "version": 3
   },
   "file_extension": ".py",
   "mimetype": "text/x-python",
   "name": "python",
   "nbconvert_exporter": "python",
   "pygments_lexer": "ipython3",
   "version": "3.5.2"
  }
 },
 "nbformat": 4,
 "nbformat_minor": 1
}
