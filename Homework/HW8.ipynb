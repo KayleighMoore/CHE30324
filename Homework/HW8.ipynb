{
 "cells": [
  {
   "cell_type": "markdown",
   "metadata": {},
   "source": [
    "# Chem 30324, Spring 2018, Homework 8\n",
    "\n",
    "# Due April 4, 2018"
   ]
  },
  {
   "cell_type": "markdown",
   "metadata": {},
   "source": [
    "## Quantum mechanics of an H atom: \n",
    "### Consider an excited hydrogen atom with a 2s$^1$ electron configuration. The 2s radial wavefunction is given by $$R_{2,0} = \\frac{1}{\\sqrt{2a_0^3}}(1-\\rho/2)e^{-\\rho/2}, \\rho = r/a_0$$ where $a_0$ = bohr radius. (*Hint:* It’s easiest to solve the following using $a_0$ as the unit of length.)"
   ]
  },
  {
   "cell_type": "markdown",
   "metadata": {},
   "source": [
    "### 1. Provide a hand sketch of the 3-D shape of a 2s wavefunction (“orbital”). Be sure to indicate the *sign* of the wavefunction in each region and the location(s) of nodes. How many radial and how many angular nodes does a 2s electron orbital have?"
   ]
  },
  {
   "cell_type": "markdown",
   "metadata": {},
   "source": [
    "### 2. Plot the radial probability function $P_{20}(r) = r^2\\lvert R_{2,0}(r)\\rvert^2$. Be sure to label both axes appropriately. (*Hint:* Stick with $a_0$ as the length unit.)"
   ]
  },
  {
   "cell_type": "markdown",
   "metadata": {},
   "source": [
    "### 3. Determine and indicate on your plot $\\langle r\\rangle$, the expectation value of the distance of the electron from the nucleus."
   ]
  },
  {
   "cell_type": "markdown",
   "metadata": {},
   "source": [
    "### 4. Determine and indicate on your plot  $r_{MP}$, the most probable distance of the electron from the nucleus."
   ]
  },
  {
   "cell_type": "markdown",
   "metadata": {},
   "source": [
    "### 5. Determine and indicate on your plot the maximum classical distance of the electron from the nucleus in this orbital."
   ]
  },
  {
   "cell_type": "markdown",
   "metadata": {},
   "source": [
    "### 6. What is the probability of finding the electron beyond the classical distance? (Evaluate the necessary integral numerically.)"
   ]
  },
  {
   "cell_type": "markdown",
   "metadata": {},
   "source": [
    "### 7. Can a 2s electron undergo an allowed transition to a lower energy electronic state? If so, what frequency (in cm$^{-1}$) of light would be emitted?"
   ]
  },
  {
   "cell_type": "markdown",
   "metadata": {},
   "source": [
    "## Variations on the hydrogen atom\n",
    "### The *variational principle* allows us to develop approximate solutions to the Schr\\\"{o}dinger equation numerically. Here you will apply the variational principle to the H atom.  For this problem it is easiest to work in atomic units.  In these units, $\\hbar$, $a_0$, and $4\\pi\\epsilon_0$ are all equal to 1 and the unit of energy is the Hartree, equivalent to 27.212 eV.  In atomic units the H atom Schr\\\"{o}dinger equation is written:\n",
    "\n",
    "$$\\left \\{-\\frac{1}{2}\\frac{d^2}{dr^2} - \\frac{1}{r}\\frac{d}{dr}-\\frac{1}{r}+\\frac{l(l+1)}{2r^2}  \\right \\}R(r) = ER(r)$$\n"
   ]
  },
  {
   "cell_type": "markdown",
   "metadata": {},
   "source": [
    "### 8. Normalize the true 1s wavefunction, $R_{10}(r)=e^{-r}$.  Do not forget to include the $r^2$ integration factor."
   ]
  },
  {
   "cell_type": "markdown",
   "metadata": {},
   "source": [
    "### 9. Is this 1s wavefunction an eigenfunction of the hydrogen Schrodinger equation?  What is the eigenvalue?  Recall that your answer will be in Hartree."
   ]
  },
  {
   "cell_type": "markdown",
   "metadata": {},
   "source": [
    "### 10. Suppose in a fit of panic you forget the 1s radial function when asked on an exam. Now wanting to leave the answer blank, you decide to guess something, and liking bell-shaped curves, you guess $R_{10}(r) = e^{-r^2}$.  Normalize this guess."
   ]
  },
  {
   "cell_type": "markdown",
   "metadata": {},
   "source": [
    "### 11. Calculate the expectation value of the energy of your normalized guess.  Is it greater or less than the true value?"
   ]
  },
  {
   "cell_type": "markdown",
   "metadata": {},
   "source": [
    "### 12. What does the variational principle say about the expectation value of the energy of your guess as you vary a parameter $\\gamma$ in your guess, $R_{10}=e^{-\\gamma r^2}$?  Suggest a strategy for determining the \"best\" $\\gamma$."
   ]
  },
  {
   "cell_type": "markdown",
   "metadata": {},
   "source": [
    "### 13. *Extra credit*: Determine the best value of $\\gamma$.  Show and carefully justify your work to receive credit."
   ]
  },
  {
   "cell_type": "markdown",
   "metadata": {},
   "source": [
    "## Many-electron atoms:\n",
    "### Oxygen (O) is the eighth atom on the periodic table and has 6 valence electrons."
   ]
  },
  {
   "cell_type": "markdown",
   "metadata": {},
   "source": [
    "### 14. Write the ground state atomic configuration of oxygen."
   ]
  },
  {
   "cell_type": "markdown",
   "metadata": {},
   "source": [
    "### 15. Provide *one possible set* of quantum numbers ($n, l, m_l , m _s$) for each of the valence electrons in the atom. What is the ground state *spin multiplicity* of O?"
   ]
  },
  {
   "cell_type": "markdown",
   "metadata": {},
   "source": [
    "### 16. *Qualitatively* compare the energies necessary to remove a 1s electron from O and from sulfur (S), one row below O in the periodic table. Explain your answer. (Note that the measurement of these energies is the basis of X-ray core-level spectroscopy.)"
   ]
  },
  {
   "cell_type": "markdown",
   "metadata": {},
   "source": [
    "### 17. *Qualitatively* compare the ionization energies (energies to remove a valence p electron) from O and from S, one row below O in the periodic table. Explain your answer."
   ]
  },
  {
   "cell_type": "markdown",
   "metadata": {},
   "source": [
    "### 18. *Qualitatively* compare the ionization energies (energies to remove a valence p electron) from O and from fluorine (F), one column to the right of O in the periodic table. Explain your answer."
   ]
  },
  {
   "cell_type": "markdown",
   "metadata": {},
   "source": [
    "### 19. Show that a 2s hydrogenic orbital approaches closer to the nucleus than the 2p, by comparing the probability of finding either electron within 1 atomic unit of the nucleus. In atomic units, the 2s and 2p radial wavefunctions are given by:\n",
    "$$R_{2,0} = \\frac{1}{\\sqrt{2}}(1-r/2)e^{-r/2}$$\n",
    "$$R_{2,1} = \\frac{1}{2\\sqrt{6}}r e^{-r/2}$$"
   ]
  },
  {
   "cell_type": "markdown",
   "metadata": {
    "collapsed": true
   },
   "source": [
    "### Remember to construct the radial probability functions correctly."
   ]
  },
  {
   "cell_type": "code",
   "execution_count": null,
   "metadata": {
    "collapsed": true
   },
   "outputs": [],
   "source": []
  }
 ],
 "metadata": {
  "anaconda-cloud": {},
  "kernelspec": {
   "display_name": "Python 3",
   "language": "python",
   "name": "python3"
  },
  "language_info": {
   "codemirror_mode": {
    "name": "ipython",
    "version": 3
   },
   "file_extension": ".py",
   "mimetype": "text/x-python",
   "name": "python",
   "nbconvert_exporter": "python",
   "pygments_lexer": "ipython3",
   "version": "3.6.3"
  }
 },
 "nbformat": 4,
 "nbformat_minor": 1
}
