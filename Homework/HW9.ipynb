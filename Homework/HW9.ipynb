{
 "cells": [
  {
   "cell_type": "markdown",
   "metadata": {},
   "source": [
    "# Chem 30324, Spring 2018, Homework 9\n",
    "\n",
    "# Due April 11, 2018"
   ]
  },
  {
   "cell_type": "markdown",
   "metadata": {},
   "source": [
    "## Molecular Orbitals.\n",
    "### The orbitals in molecules can be constructed from linear combinations of atomic orbitals on the constituent atoms (in this context, the atomic orbitals are called “basis functions”). One of the factors that determines whether two atomic orbitals can form a molecular orbital is there ability to overlap. Consider two atoms, A and B, aligned on the z axis and separated by a distance $R$."
   ]
  },
  {
   "cell_type": "markdown",
   "metadata": {},
   "source": [
    "### 1. The overlap between two 1s orbitals on A and B can be shown to be: $$S = \\left \\{1+\\frac{R}{a_0}+\\frac{1}{3}\\left (\\frac{R}{a_0}\\right )^2\\right \\}e^{-R/a_0}$$ Plot out the overlap as a function of the internuclear distance $R$. Qualitatively explain why it has the shape it has."
   ]
  },
  {
   "cell_type": "markdown",
   "metadata": {},
   "source": [
    "### 2. The overlap functions for other pairs of orbitals are more complicated, but the general features are easily inferred. Neatly sketch the orbital overlap between a 1s orbital on A and 2p$_z$ orbital on B as a function $R$. Carefully indicate the limiting values as $R \\rightarrow 0$ and $R \\rightarrow \\infty$."
   ]
  },
  {
   "cell_type": "markdown",
   "metadata": {},
   "source": [
    "### 3. Ditto for 1s orbital on A and 2p$_x$ orbital on B."
   ]
  },
  {
   "cell_type": "markdown",
   "metadata": {},
   "source": [
    "### 4. Ditto for 2p$_z$ orbital on A and 2p$_z$ orbital on B."
   ]
  },
  {
   "cell_type": "markdown",
   "metadata": {},
   "source": [
    "### 5. Ditto for 2p$_z$ orbital on A and 3d$_z^2$ orbital on B."
   ]
  },
  {
   "cell_type": "markdown",
   "metadata": {},
   "source": [
    "### 6. What property besides overlap determines whether two atomic orbitals will form a molecular orbital?"
   ]
  },
  {
   "cell_type": "markdown",
   "metadata": {},
   "source": [
    "## The Hückel model and π orbitals"
   ]
  },
  {
   "cell_type": "markdown",
   "metadata": {},
   "source": [
    "### One of the first successes of molecular orbital theory was application to the π systems of conjugated hydrocarbons. (See [Roberts, Notes on Molecular Orbital Theory](http://resolver.caltech.edu/CaltechBOOK:1961.001).) In the Hückel model, one constructs a π-only secular matrix and uses simple rules for the matrix elements. $S_{ii} = 1$ for a basis function with itself and $S_{ij} = 0$ otherwise. $F_{ii} = \\alpha$ for a basis function with itself, $F_{ij}=\\beta$ between adjacent atoms, and $F_{ij}=0$ otherwise. "
   ]
  },
  {
   "cell_type": "markdown",
   "metadata": {},
   "source": [
<<<<<<< HEAD
    "### 7. Construct and solve the secular matrix for cyclopentadienyl, C$_5$H$_5^.$.  Make an energy level diagram for the π system."
=======
    "### 7. Construct and solve the secular matrix for cyclopentane, C$_5$H$_5$.  Make an energy level diagram for the π system."
>>>>>>> 514a90f3ff3e941959d5a55ca78393cd86db6540
   ]
  },
  {
   "cell_type": "markdown",
   "metadata": {},
   "source": [
    "### 8. Use back-substitution to determine the coefficients for each molecular orbital."
   ]
  },
  {
   "cell_type": "markdown",
   "metadata": {},
   "source": [
<<<<<<< HEAD
    "### 9. Predict the spin-multiplicities of C$_5$H$_5^+$, C$_5$H$_5^.$, and C$_5$H$_5^-$.  In which one do you expect all the C-C distances to be the same?"
=======
    "### 9. Predict the spin-multiplicities of C$_5$H$_5^+$, C$_5$H$_5$, and C$_5$H$_5^-$.  In which one do you expect all the C-C distances to be the same?"
>>>>>>> 514a90f3ff3e941959d5a55ca78393cd86db6540
   ]
  },
  {
   "cell_type": "markdown",
   "metadata": {
    "collapsed": true
   },
   "source": [
    "### Make sure you understand how to do these procedures.  The math can get tedious, however, so here is a snippet of python code appropriate to butadiene. You would have to customize to cyclopentadienyl."
   ]
  },
  {
   "cell_type": "code",
   "execution_count": 1,
   "metadata": {
    "collapsed": true
   },
   "outputs": [],
   "source": [
    "from sympy import *"
   ]
  },
  {
   "cell_type": "code",
   "execution_count": 2,
   "metadata": {
    "collapsed": true
   },
   "outputs": [],
   "source": [
    "init_printing(use_unicode=True)"
   ]
  },
  {
   "cell_type": "code",
   "execution_count": 3,
   "metadata": {
    "collapsed": true
   },
   "outputs": [],
   "source": [
    "alpha,beta = symbols('alpha beta')"
   ]
  },
  {
   "cell_type": "code",
   "execution_count": 4,
   "metadata": {
    "collapsed": true
   },
   "outputs": [],
   "source": [
    "M=Matrix([[alpha, beta, 0 , 0],[beta, alpha, beta, 0],[0,beta,alpha,beta],[0,0,beta,alpha]])"
   ]
  },
  {
   "cell_type": "code",
   "execution_count": 5,
   "metadata": {},
   "outputs": [
    {
     "data": {
      "image/png": "iVBORw0KGgoAAAANSUhEUgAAAIQAAABkCAMAAABw3mgXAAAAP1BMVEX///8AAAAAAAAAAAAAAAAA\nAAAAAAAAAAAAAAAAAAAAAAAAAAAAAAAAAAAAAAAAAAAAAAAAAAAAAAAAAAAAAADFBd4eAAAAFHRS\nTlMAMquZdlQQQO0wRIki3e+7zWZ8bMzn8loAAAAJcEhZcwAADsQAAA7EAZUrDhsAAAQXSURBVGgF\n7ZvtlpsgEIYxGncr5oPW+7/W8qEnzsDwCkfa3Tb540bH4WEEk2cxqlv866L+wusW2laqW/rBvq5/\ngUEZ1/JlcRBdWfuzMXPZGfloUwFhazY+Mtxjr43OHFeKRVRAGJd/eside9oLO95ytWIR5RCzcc1f\nbyKEubtD+ikGKB5RDjH45Bd5Lj38oesyihQ8ohJiusvVXjzEtMizjUdwCD0M/SR2wR6Yurkfnje5\nm+PSu/OnJZQskSuKoBDzzQKMtpej2I1BjVr3d3nwz4t2DXdhk2BQUQSFuPvzH70axJ76CDXIw24O\nlchC+Fq9IghEHwZT/1ShqVQ3QpEne3sRXlGxo7gogkDcw+TXdy0WYgrXIUyyKL3fEYbdFQ7MV8Qe\nYlwvo86cv5YoM0PVw3fF5KYoi9hDqMXfh5SWa63CWJgzM3S9FdlrKr5CHV8RBKL3M9z0i+qk6/Fw\nnJ2bRPLr5m7bmfmjFIsgEEprY2wrvZbm+NQZPWh5yHiy0d5sLvIctjEsgkLIvVuPyLMGnpoJ+IYQ\no3SZMt08cKisEutd4kDeopAyiKLUx4PfEFut3pX46pU4Q23KcsRjAqnNVsPcFuVA8gPVJtf4egzm\nAPID1eYAA8yB5Cd8OOS+OGEKmAPJj0+QUxvMoGAOID9Qbaxknq9HbHZgtWmhRwwCqk0TPWIQYUzJ\natNGjxzEx/KxDjeoNm306Cf5dxFSm0Z6RC8HVJs2ekQhoNq00SMCcUBtmugRgThDbWpyfDmIM9Sm\nKse+EmeoTVWOPcSBD8g2IW+Ira6uEqP8D8MtrO12tp+bxesdZyN93zFRpjbpuu1zsEowK0mfj9Qm\nfRbdS3IwCGYl9MT1HVSb5Fl0J81BIbiV0DPDO6g2qZPYPpaDQnArYef6t+Fr6Kl6RCG4lYgQ5+oR\ngYjWABIQLfSIQERLMgmIFnrEINiSTAKihR4RiCOXo4UeOYiPzx9rl/GiTRM9+vW5/wDDizZN9Ihc\njgOLNk30iELwJZl4YDbRIwbBlmQiiDZ6xCCiVtmOGrVhKRJrrt8QokptWCUSOcoqUaU2DCKRowyC\n5Tvr7Rtiq+S7Ev9DJfZqs/VX3rIxgeUHR9jGiNrIjW9HGASWHxyhFFWbrSl5SyGw/OAIpZjayI1v\nRygElh8cYS+GT16gRxQCyw+OWCFK9IhA4G/bOOLAg3HR6hGBwPKDI1wh0INxfPWIQSD5wc+02W76\nIZF5MC5aPSIQuNg4YhuXJatHBEJh+cERFXpEIbD84IgKPaIQ4Vb0eh5tu5u8tjiiQo8oBJYfHFGh\nRwwCyU/0xNqrRutfNXrEIKKcxTtq9OifhEioDS7m2ZVIqM2fh8AtJiLOrkSiCbwrQHyBX7qM7tcm\nw5B97hZ3py7C/9JlGNRvlYtECIExtRcAAAAASUVORK5CYII=\n",
      "text/latex": [
       "$$\\left[\\begin{matrix}\\alpha & \\beta & 0 & 0\\\\\\beta & \\alpha & \\beta & 0\\\\0 & \\beta & \\alpha & \\beta\\\\0 & 0 & \\beta & \\alpha\\end{matrix}\\right]$$"
      ],
      "text/plain": [
       "⎡α  β  0  0⎤\n",
       "⎢          ⎥\n",
       "⎢β  α  β  0⎥\n",
       "⎢          ⎥\n",
       "⎢0  β  α  β⎥\n",
       "⎢          ⎥\n",
       "⎣0  0  β  α⎦"
      ]
     },
     "execution_count": 5,
     "metadata": {},
     "output_type": "execute_result"
    }
   ],
   "source": [
    "M"
   ]
  },
  {
   "cell_type": "code",
   "execution_count": 6,
   "metadata": {},
   "outputs": [
    {
     "data": {
      "image/png": "iVBORw0KGgoAAAANSUhEUgAABzoAAAB1CAMAAAABUBcgAAAARVBMVEX///8AAAAAAAAAAAAAAAAA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\n",
      "text/latex": [
       "$$\\left [ \\left ( \\alpha - \\frac{\\beta}{2} + \\frac{\\sqrt{5} \\beta}{2}, \\quad 1, \\quad \\left [ \\left[\\begin{matrix}\\frac{4}{\\left(1 + \\sqrt{5}\\right) \\left(- \\sqrt{5} + 1\\right)}\\\\- \\frac{2}{1 + \\sqrt{5}}\\\\\\frac{2}{1 + \\sqrt{5}}\\\\1\\end{matrix}\\right]\\right ]\\right ), \\quad \\left ( \\alpha + \\frac{\\beta}{2} + \\frac{\\sqrt{5} \\beta}{2}, \\quad 1, \\quad \\left [ \\left[\\begin{matrix}- \\frac{4}{\\left(1 + \\sqrt{5}\\right) \\left(- \\sqrt{5} + 1\\right)}\\\\- \\frac{2}{- \\sqrt{5} + 1}\\\\- \\frac{2}{- \\sqrt{5} + 1}\\\\1\\end{matrix}\\right]\\right ]\\right ), \\quad \\left ( \\alpha - \\frac{\\sqrt{5} \\beta}{2} - \\frac{\\beta}{2}, \\quad 1, \\quad \\left [ \\left[\\begin{matrix}- \\frac{4}{\\left(-1 + \\sqrt{5}\\right) \\left(1 + \\sqrt{5}\\right)}\\\\\\frac{2}{-1 + \\sqrt{5}}\\\\- \\frac{2}{-1 + \\sqrt{5}}\\\\1\\end{matrix}\\right]\\right ]\\right ), \\quad \\left ( \\alpha - \\frac{\\sqrt{5} \\beta}{2} + \\frac{\\beta}{2}, \\quad 1, \\quad \\left [ \\left[\\begin{matrix}\\frac{4}{\\left(-1 + \\sqrt{5}\\right) \\left(1 + \\sqrt{5}\\right)}\\\\- \\frac{2}{1 + \\sqrt{5}}\\\\- \\frac{2}{1 + \\sqrt{5}}\\\\1\\end{matrix}\\right]\\right ]\\right )\\right ]$$"
      ],
      "text/plain": [
       "⎡⎛    β   √5⋅β     ⎡⎡        4         ⎤⎤⎞  ⎛    β   √5⋅β     ⎡⎡       -4     \n",
       "⎢⎜α - ─ + ────, 1, ⎢⎢──────────────────⎥⎥⎟, ⎜α + ─ + ────, 1, ⎢⎢──────────────\n",
       "⎢⎜    2    2       ⎢⎢(1 + √5)⋅(-√5 + 1)⎥⎥⎟  ⎜    2    2       ⎢⎢(1 + √5)⋅(-√5 \n",
       "⎢⎜                 ⎢⎢                  ⎥⎥⎟  ⎜                 ⎢⎢              \n",
       "⎢⎜                 ⎢⎢       -2         ⎥⎥⎟  ⎜                 ⎢⎢       -2     \n",
       "⎢⎜                 ⎢⎢      ──────      ⎥⎥⎟  ⎜                 ⎢⎢     ───────  \n",
       "⎢⎜                 ⎢⎢      1 + √5      ⎥⎥⎟  ⎜                 ⎢⎢     -√5 + 1  \n",
       "⎢⎜                 ⎢⎢                  ⎥⎥⎟  ⎜                 ⎢⎢              \n",
       "⎢⎜                 ⎢⎢        2         ⎥⎥⎟  ⎜                 ⎢⎢       -2     \n",
       "⎢⎜                 ⎢⎢      ──────      ⎥⎥⎟  ⎜                 ⎢⎢     ───────  \n",
       "⎢⎜                 ⎢⎢      1 + √5      ⎥⎥⎟  ⎜                 ⎢⎢     -√5 + 1  \n",
       "⎢⎜                 ⎢⎢                  ⎥⎥⎟  ⎜                 ⎢⎢              \n",
       "⎣⎝                 ⎣⎣        1         ⎦⎦⎠  ⎝                 ⎣⎣        1     \n",
       "\n",
       "    ⎤⎤⎞  ⎛    √5⋅β   β     ⎡⎡       -4         ⎤⎤⎞  ⎛    √5⋅β   β     ⎡⎡      \n",
       "────⎥⎥⎟, ⎜α - ──── - ─, 1, ⎢⎢──────────────────⎥⎥⎟, ⎜α - ──── + ─, 1, ⎢⎢──────\n",
       "+ 1)⎥⎥⎟  ⎜     2     2     ⎢⎢(-1 + √5)⋅(1 + √5)⎥⎥⎟  ⎜     2     2     ⎢⎢(-1 + \n",
       "    ⎥⎥⎟  ⎜                 ⎢⎢                  ⎥⎥⎟  ⎜                 ⎢⎢      \n",
       "    ⎥⎥⎟  ⎜                 ⎢⎢        2         ⎥⎥⎟  ⎜                 ⎢⎢      \n",
       "    ⎥⎥⎟  ⎜                 ⎢⎢     ───────      ⎥⎥⎟  ⎜                 ⎢⎢      \n",
       "    ⎥⎥⎟  ⎜                 ⎢⎢     -1 + √5      ⎥⎥⎟  ⎜                 ⎢⎢      \n",
       "    ⎥⎥⎟  ⎜                 ⎢⎢                  ⎥⎥⎟  ⎜                 ⎢⎢      \n",
       "    ⎥⎥⎟  ⎜                 ⎢⎢       -2         ⎥⎥⎟  ⎜                 ⎢⎢      \n",
       "    ⎥⎥⎟  ⎜                 ⎢⎢     ───────      ⎥⎥⎟  ⎜                 ⎢⎢      \n",
       "    ⎥⎥⎟  ⎜                 ⎢⎢     -1 + √5      ⎥⎥⎟  ⎜                 ⎢⎢      \n",
       "    ⎥⎥⎟  ⎜                 ⎢⎢                  ⎥⎥⎟  ⎜                 ⎢⎢      \n",
       "    ⎦⎦⎠  ⎝                 ⎣⎣        1         ⎦⎦⎠  ⎝                 ⎣⎣      \n",
       "\n",
       "  4         ⎤⎤⎞⎤\n",
       "────────────⎥⎥⎟⎥\n",
       "√5)⋅(1 + √5)⎥⎥⎟⎥\n",
       "            ⎥⎥⎟⎥\n",
       " -2         ⎥⎥⎟⎥\n",
       "──────      ⎥⎥⎟⎥\n",
       "1 + √5      ⎥⎥⎟⎥\n",
       "            ⎥⎥⎟⎥\n",
       " -2         ⎥⎥⎟⎥\n",
       "──────      ⎥⎥⎟⎥\n",
       "1 + √5      ⎥⎥⎟⎥\n",
       "            ⎥⎥⎟⎥\n",
       "  1         ⎦⎦⎠⎦"
      ]
     },
     "execution_count": 6,
     "metadata": {},
     "output_type": "execute_result"
    }
   ],
   "source": [
    "M.eigenvects()"
   ]
  },
  {
   "cell_type": "markdown",
<<<<<<< HEAD
   "metadata": {
    "collapsed": true
   },
   "source": [
    "## Computational chemistry. \n",
    "### Today properties of a molecule are more often than not calculated rather than inferred. Quantitative molecular quantum mechanical calculations require highly specialized numerical solvers like Gaussian (<https://www.gaussian.com>). Following are instructions for using Gaussian with the Webmo graphical interface (<https://www.webmo.net/demoserver/cgi-bin/webmo/login.cgi>)."
   ]
  },
  {
   "cell_type": "markdown",
   "metadata": {},
   "source": [
    "### Now, let’s set up your calculation (you may do this with a partner if you choose):\n",
    "1. Log into the Webmo server https://www.webmo.net/demoserver/cgi-bin/webmo/login.cgi using \"guest\" as your username and password.\n",
    "2. Select New Job-Creat New Job.\n",
    "3. Use the available tools to sketch a molecule.\n",
    "4. Use the right arrow at the bottom to proceed to the Computational Engines.\n",
    "5. Select the “B3LYP” functional and the appropriate basis set.\n",
    "6. Select the right arrow to run the calculation.\n",
    "7. From the job manager window choose the completed calculation to view the results."
   ]
  },
  {
   "cell_type": "markdown",
   "metadata": {},
   "source": [
    "The molecule you are to study depends on your last name. Choose according to the list:\n",
    "+ A-G: **CO**\n",
    "+ H-R: **BN**\n",
    "+ S-Z: **BeO**"
   ]
  },
  {
   "cell_type": "markdown",
   "metadata": {},
   "source": [
    "For your convenience, here are the total energies (in Hartree, 27.212 eV/Hartree) of the constituent atoms, calculated using the B3LYP DFT treatment of $v_{ee}$ and the “Routine” basis set:"
   ]
  },
  {
   "cell_type": "markdown",
   "metadata": {},
   "source": [
    "|Atom|Energy|Atom|Energy|\n",
    "|-|-|-|-|\n",
    "|B|–24.65435|N|–54.559498|\n",
    "|Be|–14.65446|O|–75.031179|\n",
    "|C|–37.68086|F|–99.681600|"
   ]
  },
  {
   "cell_type": "markdown",
   "metadata": {},
   "source": [
    "### 10. Construct a potential energy surface for your molecule. Using covalent radii, guess an approximate equilbrium bond length, and use the Webmo editor to draw the molecule with that length. Specify the “Molecular Energy” option to Gaussian and the “Routine” basis set for better accuracy. Calculate and plot out total molecular energy vs. bond distance in increments of 0.05 Å about your guessed minimum, including enough points to encompass the actual minimum. (You will find it convenient to subtract off the individual atom energies from the molecular total energy and to convert to more convenient units, like eV or kJ/mol.) By fitting the few points nearest the minimum, determine the equilibrium bond length. How does your result compare to literature?"
   ]
  },
  {
   "cell_type": "markdown",
   "metadata": {},
   "source": [
    "### 11. Use the quadratic fit from Question 10 to determine the harmonic vibrational frequency of your molecule, in cm$^{-1}$. Recall that the force constant is the second derivative of the energy at the minimum, and that the frequency (in wavenumbers) is related to the force constant according to $$\\tilde{\\nu} = \\frac{1}{2\\pi c}\\sqrt{\\frac{k}{\\mu}}$$"
   ]
  },
  {
   "cell_type": "markdown",
   "metadata": {},
   "source": [
    "### 12. Use your results to determine the zero-point-corrected bond energy of your molecule. How does this model compare with the experimental value?"
   ]
  },
  {
   "cell_type": "code",
   "execution_count": null,
=======
>>>>>>> 514a90f3ff3e941959d5a55ca78393cd86db6540
   "metadata": {
    "collapsed": true
   },
   "source": [
    "## Computational chemistry. \n",
    "### Today properties of a molecule are more often than not calculated rather than inferred. Quantitative molecular quantum mechanical calculations require highly specialized numerical solvers like Gaussian (<https://www.gaussian.com>). Following are instructions for using Gaussian with the Webmo graphical interface (<https://www.webmo.net/demoserver/cgi-bin/webmo/login.cgi>)."
   ]
  },
  {
   "cell_type": "markdown",
   "metadata": {},
   "source": [
    "### Now, let’s set up your calculation (you may do this with a partner if you choose):\n",
    "1. Log into the Webmo server https://www.webmo.net/demoserver/cgi-bin/webmo/login.cgi using \"guest\" as your username and password.\n",
    "2. Select New Job-Creat New Job.\n",
    "3. Use the available tools to sketch a molecule.\n",
    "4. Use the right arrow at the bottom to proceed to the Computational Engines.\n",
    "5. Select the “B3LYP” functional and the appropriate basis set.\n",
    "6. Select the right arrow to run the calculation.\n",
    "7. From the job manager window choose the completed calculation to view the results."
   ]
  },
  {
   "cell_type": "markdown",
   "metadata": {},
   "source": [
    "The molecule you are to study depends on your last name. Choose according to the list:\n",
    "+ A-G: **CO**\n",
    "+ H-R: **BN**\n",
    "+ S-Z: **BeO**"
   ]
  },
  {
   "cell_type": "markdown",
   "metadata": {},
   "source": [
    "For your convenience, here are the total energies (in Hartree, 27.212 eV/Hartree) of the constituent atoms, calculated using the B3LYP DFT treatment of $v_{ee}$ and the “Routine” basis set:"
   ]
  },
  {
   "cell_type": "markdown",
   "metadata": {},
   "source": [
    "|Atom|Energy|Atom|Energy|\n",
    "|-|-|-|-|\n",
    "|B|–24.65435|N|–54.559498|\n",
    "|Be|–14.65446|O|–75.031179|\n",
    "|C|–37.68086|F|–99.681600|"
   ]
  },
  {
   "cell_type": "markdown",
   "metadata": {},
   "source": [
    "### 10. Construct a potential energy surface for your molecule. Using covalent radii, guess an approximate equilbrium bond length, and use the Webmo editor to draw the molecule with that length. Specify the “Molecular Energy” option to Gaussian and the “Routine” basis set for better accuracy. Calculate and plot out total molecular energy vs. bond distance in increments of 0.05 Å about your guessed minimum, including enough points to encompass the actual minimum. (You will find it convenient to subtract off the individual atom energies from the molecular total energy and to convert to more convenient units, like eV or kJ/mol.) By fitting the few points nearest the minimum, determine the equilibrium bond length. How does your result compare to literature?"
   ]
  },
  {
   "cell_type": "markdown",
   "metadata": {},
   "source": [
    "### 11. Use the quadratic fit from Question 10 to determine the harmonic vibrational frequency of your molecule, in cm$^{-1}$. Recall that the force constant is the second derivative of the energy at the minimum, and that the frequency (in wavenumbers) is related to the force constant according to $$\\tilde{\\nu} = \\frac{1}{2\\pi c}\\sqrt{\\frac{k}{\\mu}}$$"
   ]
  },
  {
   "cell_type": "markdown",
   "metadata": {},
   "source": [
    "### 12. Use your results to determine the zero-point-corrected bond energy of your molecule. How does this model compare with the experimental value?"
   ]
  },
  {
   "cell_type": "code",
   "execution_count": null,
   "metadata": {},
   "outputs": [],
   "source": []
  }
 ],
 "metadata": {
  "anaconda-cloud": {},
  "kernelspec": {
   "display_name": "Python [conda env:anaconda2]",
   "language": "python",
   "name": "conda-env-anaconda2-py"
  },
  "language_info": {
   "codemirror_mode": {
    "name": "ipython",
    "version": 2
   },
   "file_extension": ".py",
   "mimetype": "text/x-python",
   "name": "python",
   "nbconvert_exporter": "python",
   "pygments_lexer": "ipython2",
   "version": "2.7.14"
  }
 },
 "nbformat": 4,
 "nbformat_minor": 1
}
