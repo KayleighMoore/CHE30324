{
 "cells": [
  {
   "cell_type": "markdown",
   "metadata": {},
   "source": [
    "# Chem 30324, Spring 2019, Homework 9\n",
    "\n",
    "# Due April 3, 2019"
   ]
  },
  {
   "cell_type": "markdown",
   "metadata": {},
   "source": [
    "## Molecular Orbitals.\n",
    "### The orbitals in molecules can be constructed from linear combinations of atomic orbitals on the constituent atoms (in this context, the atomic orbitals are called “basis functions”). One of the factors that determines whether two atomic orbitals can form a molecular orbital is there ability to overlap. Consider two atoms, A and B, aligned on the z axis and separated by a distance $R$."
   ]
  },
  {
   "cell_type": "markdown",
   "metadata": {},
   "source": [
    "### 1. The overlap between two 1s orbitals on A and B can be shown to be: $$S = \\left \\{1+\\frac{R}{a_0}+\\frac{1}{3}\\left (\\frac{R}{a_0}\\right )^2\\right \\}e^{-R/a_0}$$ Plot out the overlap as a function of the internuclear distance $R$. Qualitatively explain why it has the shape it has."
   ]
  },
  {
   "cell_type": "markdown",
   "metadata": {},
   "source": [
    "### 2. The overlap functions for other pairs of orbitals are more complicated, but the general features are easily inferred. Neatly sketch the orbital overlap between a 1s orbital on A and 2p$_z$ orbital on B as a function $R$. Carefully indicate the limiting values as $R \\rightarrow 0$ and $R \\rightarrow \\infty$."
   ]
  },
  {
   "cell_type": "markdown",
   "metadata": {},
   "source": [
    "### 3. Ditto for 1s orbital on A and 2p$_x$ orbital on B."
   ]
  },
  {
   "cell_type": "markdown",
   "metadata": {},
   "source": [
    "### 4. Ditto for 2p$_z$ orbital on A and 2p$_z$ orbital on B."
   ]
  },
  {
   "cell_type": "markdown",
   "metadata": {},
   "source": [
    "### 5. Ditto for 2p$_z$ orbital on A and 3d$_z^2$ orbital on B."
   ]
  },
  {
   "cell_type": "markdown",
   "metadata": {},
   "source": [
    "### 6. What property besides overlap determines whether two atomic orbitals will form a molecular orbital?"
   ]
  },
  {
   "cell_type": "markdown",
   "metadata": {},
   "source": [
    "## The Hückel model and π orbitals"
   ]
  },
  {
   "cell_type": "markdown",
   "metadata": {},
   "source": [
    "### One of the first successes of molecular orbital theory was application to the π systems of conjugated hydrocarbons. (See [Roberts, Notes on Molecular Orbital Theory](http://resolver.caltech.edu/CaltechBOOK:1961.001).) In the Hückel model, one constructs a π-only secular matrix and uses simple rules for the matrix elements. $S_{ii} = 1$ for a basis function with itself and $S_{ij} = 0$ otherwise. $F_{ii} = \\alpha$ for a basis function with itself, $F_{ij}=\\beta$ between adjacent atoms, and $F_{ij}=0$ otherwise. "
   ]
  },
  {
   "cell_type": "markdown",
   "metadata": {},
   "source": [
<<<<<<< HEAD
    "### 7. Construct and solve the secular matrix for cyclopentadienyl, C$_5$H$_5^.$.  Make an energy level diagram for the π system."
=======
    "### 7. Construct and solve the secular matrix for cyclopentane, C$_5$H$_5$.  Make an energy level diagram for the π system."
>>>>>>> 514a90f3ff3e941959d5a55ca78393cd86db6540
   ]
  },
  {
   "cell_type": "markdown",
   "metadata": {},
   "source": [
    "### 8. Use back-substitution to determine the coefficients for each molecular orbital."
   ]
  },
  {
   "cell_type": "markdown",
   "metadata": {},
   "source": [
<<<<<<< HEAD
    "### 9. Predict the spin-multiplicities of C$_5$H$_5^+$, C$_5$H$_5^.$, and C$_5$H$_5^-$.  In which one do you expect all the C-C distances to be the same?"
=======
    "### 9. Predict the spin-multiplicities of C$_5$H$_5^+$, C$_5$H$_5$, and C$_5$H$_5^-$.  In which one do you expect all the C-C distances to be the same?"
>>>>>>> 514a90f3ff3e941959d5a55ca78393cd86db6540
   ]
  },
  {
   "cell_type": "markdown",
   "metadata": {
    "collapsed": true
   },
   "source": [
    "### Make sure you understand how to do these procedures.  The math can get tedious, however, so here is a snippet of python code appropriate to butadiene. You would have to customize to cyclopentadienyl."
   ]
  },
  {
   "cell_type": "code",
   "execution_count": 1,
   "metadata": {
    "collapsed": true
   },
   "outputs": [],
   "source": [
    "from sympy import *"
   ]
  },
  {
   "cell_type": "code",
   "execution_count": 2,
   "metadata": {
    "collapsed": true
   },
   "outputs": [],
   "source": [
    "init_printing(use_unicode=True)"
   ]
  },
  {
   "cell_type": "code",
   "execution_count": 3,
   "metadata": {
    "collapsed": true
   },
   "outputs": [],
   "source": [
    "alpha,beta = symbols('alpha beta')"
   ]
  },
  {
   "cell_type": "code",
   "execution_count": 4,
   "metadata": {
    "collapsed": true
   },
   "outputs": [],
   "source": [
    "M=Matrix([[alpha, beta, 0 , 0],[beta, alpha, beta, 0],[0,beta,alpha,beta],[0,0,beta,alpha]])"
   ]
  },
  {
   "cell_type": "code",
   "execution_count": 5,
   "metadata": {},
   "outputs": [
    {
     "data": {
      "image/png": "",
      "text/latex": [
       "$$\\left[\\begin{matrix}\\alpha & \\beta & 0 & 0\\\\\\beta & \\alpha & \\beta & 0\\\\0 & \\beta & \\alpha & \\beta\\\\0 & 0 & \\beta & \\alpha\\end{matrix}\\right]$$"
      ],
      "text/plain": [
       "⎡α  β  0  0⎤\n",
       "⎢          ⎥\n",
       "⎢β  α  β  0⎥\n",
       "⎢          ⎥\n",
       "⎢0  β  α  β⎥\n",
       "⎢          ⎥\n",
       "⎣0  0  β  α⎦"
      ]
     },
     "execution_count": 5,
     "metadata": {},
     "output_type": "execute_result"
    }
   ],
   "source": [
    "M"
   ]
  },
  {
   "cell_type": "code",
   "execution_count": 6,
   "metadata": {},
   "outputs": [
    {
     "data": {
      "image/png": "",
      "text/latex": [
       "$$\\left [ \\left ( \\alpha - \\frac{\\beta}{2} + \\frac{\\sqrt{5} \\beta}{2}, \\quad 1, \\quad \\left [ \\left[\\begin{matrix}\\frac{4}{\\left(1 + \\sqrt{5}\\right) \\left(- \\sqrt{5} + 1\\right)}\\\\- \\frac{2}{1 + \\sqrt{5}}\\\\\\frac{2}{1 + \\sqrt{5}}\\\\1\\end{matrix}\\right]\\right ]\\right ), \\quad \\left ( \\alpha + \\frac{\\beta}{2} + \\frac{\\sqrt{5} \\beta}{2}, \\quad 1, \\quad \\left [ \\left[\\begin{matrix}- \\frac{4}{\\left(1 + \\sqrt{5}\\right) \\left(- \\sqrt{5} + 1\\right)}\\\\- \\frac{2}{- \\sqrt{5} + 1}\\\\- \\frac{2}{- \\sqrt{5} + 1}\\\\1\\end{matrix}\\right]\\right ]\\right ), \\quad \\left ( \\alpha - \\frac{\\sqrt{5} \\beta}{2} - \\frac{\\beta}{2}, \\quad 1, \\quad \\left [ \\left[\\begin{matrix}- \\frac{4}{\\left(-1 + \\sqrt{5}\\right) \\left(1 + \\sqrt{5}\\right)}\\\\\\frac{2}{-1 + \\sqrt{5}}\\\\- \\frac{2}{-1 + \\sqrt{5}}\\\\1\\end{matrix}\\right]\\right ]\\right ), \\quad \\left ( \\alpha - \\frac{\\sqrt{5} \\beta}{2} + \\frac{\\beta}{2}, \\quad 1, \\quad \\left [ \\left[\\begin{matrix}\\frac{4}{\\left(-1 + \\sqrt{5}\\right) \\left(1 + \\sqrt{5}\\right)}\\\\- \\frac{2}{1 + \\sqrt{5}}\\\\- \\frac{2}{1 + \\sqrt{5}}\\\\1\\end{matrix}\\right]\\right ]\\right )\\right ]$$"
      ],
      "text/plain": [
       "⎡⎛    β   √5⋅β     ⎡⎡        4         ⎤⎤⎞  ⎛    β   √5⋅β     ⎡⎡       -4     \n",
       "⎢⎜α - ─ + ────, 1, ⎢⎢──────────────────⎥⎥⎟, ⎜α + ─ + ────, 1, ⎢⎢──────────────\n",
       "⎢⎜    2    2       ⎢⎢(1 + √5)⋅(-√5 + 1)⎥⎥⎟  ⎜    2    2       ⎢⎢(1 + √5)⋅(-√5 \n",
       "⎢⎜                 ⎢⎢                  ⎥⎥⎟  ⎜                 ⎢⎢              \n",
       "⎢⎜                 ⎢⎢       -2         ⎥⎥⎟  ⎜                 ⎢⎢       -2     \n",
       "⎢⎜                 ⎢⎢      ──────      ⎥⎥⎟  ⎜                 ⎢⎢     ───────  \n",
       "⎢⎜                 ⎢⎢      1 + √5      ⎥⎥⎟  ⎜                 ⎢⎢     -√5 + 1  \n",
       "⎢⎜                 ⎢⎢                  ⎥⎥⎟  ⎜                 ⎢⎢              \n",
       "⎢⎜                 ⎢⎢        2         ⎥⎥⎟  ⎜                 ⎢⎢       -2     \n",
       "⎢⎜                 ⎢⎢      ──────      ⎥⎥⎟  ⎜                 ⎢⎢     ───────  \n",
       "⎢⎜                 ⎢⎢      1 + √5      ⎥⎥⎟  ⎜                 ⎢⎢     -√5 + 1  \n",
       "⎢⎜                 ⎢⎢                  ⎥⎥⎟  ⎜                 ⎢⎢              \n",
       "⎣⎝                 ⎣⎣        1         ⎦⎦⎠  ⎝                 ⎣⎣        1     \n",
       "\n",
       "    ⎤⎤⎞  ⎛    √5⋅β   β     ⎡⎡       -4         ⎤⎤⎞  ⎛    √5⋅β   β     ⎡⎡      \n",
       "────⎥⎥⎟, ⎜α - ──── - ─, 1, ⎢⎢──────────────────⎥⎥⎟, ⎜α - ──── + ─, 1, ⎢⎢──────\n",
       "+ 1)⎥⎥⎟  ⎜     2     2     ⎢⎢(-1 + √5)⋅(1 + √5)⎥⎥⎟  ⎜     2     2     ⎢⎢(-1 + \n",
       "    ⎥⎥⎟  ⎜                 ⎢⎢                  ⎥⎥⎟  ⎜                 ⎢⎢      \n",
       "    ⎥⎥⎟  ⎜                 ⎢⎢        2         ⎥⎥⎟  ⎜                 ⎢⎢      \n",
       "    ⎥⎥⎟  ⎜                 ⎢⎢     ───────      ⎥⎥⎟  ⎜                 ⎢⎢      \n",
       "    ⎥⎥⎟  ⎜                 ⎢⎢     -1 + √5      ⎥⎥⎟  ⎜                 ⎢⎢      \n",
       "    ⎥⎥⎟  ⎜                 ⎢⎢                  ⎥⎥⎟  ⎜                 ⎢⎢      \n",
       "    ⎥⎥⎟  ⎜                 ⎢⎢       -2         ⎥⎥⎟  ⎜                 ⎢⎢      \n",
       "    ⎥⎥⎟  ⎜                 ⎢⎢     ───────      ⎥⎥⎟  ⎜                 ⎢⎢      \n",
       "    ⎥⎥⎟  ⎜                 ⎢⎢     -1 + √5      ⎥⎥⎟  ⎜                 ⎢⎢      \n",
       "    ⎥⎥⎟  ⎜                 ⎢⎢                  ⎥⎥⎟  ⎜                 ⎢⎢      \n",
       "    ⎦⎦⎠  ⎝                 ⎣⎣        1         ⎦⎦⎠  ⎝                 ⎣⎣      \n",
       "\n",
       "  4         ⎤⎤⎞⎤\n",
       "────────────⎥⎥⎟⎥\n",
       "√5)⋅(1 + √5)⎥⎥⎟⎥\n",
       "            ⎥⎥⎟⎥\n",
       " -2         ⎥⎥⎟⎥\n",
       "──────      ⎥⎥⎟⎥\n",
       "1 + √5      ⎥⎥⎟⎥\n",
       "            ⎥⎥⎟⎥\n",
       " -2         ⎥⎥⎟⎥\n",
       "──────      ⎥⎥⎟⎥\n",
       "1 + √5      ⎥⎥⎟⎥\n",
       "            ⎥⎥⎟⎥\n",
       "  1         ⎦⎦⎠⎦"
      ]
     },
     "execution_count": 6,
     "metadata": {},
     "output_type": "execute_result"
    }
   ],
   "source": [
    "M.eigenvects()"
   ]
  },
  {
   "cell_type": "markdown",
<<<<<<< HEAD
   "metadata": {
    "collapsed": true
   },
   "source": [
    "## Computational chemistry. \n",
    "### Today properties of a molecule are more often than not calculated rather than inferred. Quantitative molecular quantum mechanical calculations require highly specialized numerical solvers like Gaussian (<https://www.gaussian.com>). Following are instructions for using Gaussian with the Webmo graphical interface (<https://www.webmo.net/demoserver/cgi-bin/webmo/login.cgi>)."
   ]
  },
  {
   "cell_type": "markdown",
   "metadata": {},
   "source": [
    "### Now, let’s set up your calculation (you may do this with a partner if you choose):\n",
    "1. Log into the Webmo server https://www.webmo.net/demoserver/cgi-bin/webmo/login.cgi using \"guest\" as your username and password.\n",
    "2. Select New Job-Creat New Job.\n",
    "3. Use the available tools to sketch a molecule.\n",
    "4. Use the right arrow at the bottom to proceed to the Computational Engines.\n",
    "5. Select the “B3LYP” functional and the appropriate basis set.\n",
    "6. Select the right arrow to run the calculation.\n",
    "7. From the job manager window choose the completed calculation to view the results."
   ]
  },
  {
   "cell_type": "markdown",
   "metadata": {},
   "source": [
    "The molecule you are to study depends on your last name. Choose according to the list:\n",
    "+ A-G: **CO**\n",
    "+ H-R: **BN**\n",
    "+ S-Z: **BeO**"
   ]
  },
  {
   "cell_type": "markdown",
   "metadata": {},
   "source": [
    "For your convenience, here are the total energies (in Hartree, 27.212 eV/Hartree) of the constituent atoms, calculated using the B3LYP DFT treatment of $v_{ee}$ and the “Routine” basis set:"
   ]
  },
  {
   "cell_type": "markdown",
   "metadata": {},
   "source": [
    "|Atom|Energy|Atom|Energy|\n",
    "|-|-|-|-|\n",
    "|B|–24.65435|N|–54.559498|\n",
    "|Be|–14.65446|O|–75.031179|\n",
    "|C|–37.68086|F|–99.681600|"
   ]
  },
  {
   "cell_type": "markdown",
   "metadata": {},
   "source": [
    "### 10. Construct a potential energy surface for your molecule. Using covalent radii, guess an approximate equilbrium bond length, and use the Webmo editor to draw the molecule with that length. Specify the “Molecular Energy” option to Gaussian and the “Routine” basis set for better accuracy. Calculate and plot out total molecular energy vs. bond distance in increments of 0.05 Å about your guessed minimum, including enough points to encompass the actual minimum. (You will find it convenient to subtract off the individual atom energies from the molecular total energy and to convert to more convenient units, like eV or kJ/mol.) By fitting the few points nearest the minimum, determine the equilibrium bond length. How does your result compare to literature?"
   ]
  },
  {
   "cell_type": "markdown",
   "metadata": {},
   "source": [
    "### 11. Use the quadratic fit from Question 10 to determine the harmonic vibrational frequency of your molecule, in cm$^{-1}$. Recall that the force constant is the second derivative of the energy at the minimum, and that the frequency (in wavenumbers) is related to the force constant according to $$\\tilde{\\nu} = \\frac{1}{2\\pi c}\\sqrt{\\frac{k}{\\mu}}$$"
   ]
  },
  {
   "cell_type": "markdown",
   "metadata": {},
   "source": [
    "### 12. Use your results to determine the zero-point-corrected bond energy of your molecule. How does this model compare with the experimental value?"
   ]
  },
  {
   "cell_type": "code",
   "execution_count": null,
=======
>>>>>>> 514a90f3ff3e941959d5a55ca78393cd86db6540
   "metadata": {
    "collapsed": true
   },
   "source": [
    "## Computational chemistry. \n",
    "### Today properties of a molecule are more often than not calculated rather than inferred. Quantitative molecular quantum mechanical calculations require highly specialized numerical solvers like Gaussian (<https://www.gaussian.com>). Following are instructions for using Gaussian with the Webmo graphical interface (<https://www.webmo.net/demoserver/cgi-bin/webmo/login.cgi>)."
   ]
  },
  {
   "cell_type": "markdown",
   "metadata": {},
   "source": [
    "### Now, let’s set up your calculation (you may do this with a partner if you choose):\n",
    "1. Log into the Webmo server https://www.webmo.net/demoserver/cgi-bin/webmo/login.cgi using \"guest\" as your username and password.\n",
    "2. Select New Job-Creat New Job.\n",
    "3. Use the available tools to sketch a molecule.\n",
    "4. Use the right arrow at the bottom to proceed to the Computational Engines.\n",
    "5. Select the “B3LYP” functional and the appropriate basis set.\n",
    "6. Select the right arrow to run the calculation.\n",
    "7. From the job manager window choose the completed calculation to view the results."
   ]
  },
  {
   "cell_type": "markdown",
   "metadata": {},
   "source": [
    "The molecule you are to study depends on your last name. Choose according to the list:\n",
    "+ A-G: **CO**\n",
    "+ H-R: **BN**\n",
    "+ S-Z: **BeO**"
   ]
  },
  {
   "cell_type": "markdown",
   "metadata": {},
   "source": [
    "For your convenience, here are the total energies (in Hartree, 27.212 eV/Hartree) of the constituent atoms, calculated using the B3LYP DFT treatment of $v_{ee}$ and the “Routine” basis set:"
   ]
  },
  {
   "cell_type": "markdown",
   "metadata": {},
   "source": [
    "|Atom|Energy|Atom|Energy|\n",
    "|-|-|-|-|\n",
    "|B|–24.65435|N|–54.559498|\n",
    "|Be|–14.65446|O|–75.031179|\n",
    "|C|–37.68086|F|–99.681600|"
   ]
  },
  {
   "cell_type": "markdown",
   "metadata": {},
   "source": [
    "### 10. Construct a potential energy surface for your molecule. Using covalent radii, guess an approximate equilbrium bond length, and use the Webmo editor to draw the molecule with that length. Specify the “Molecular Energy” option to Gaussian and the “Routine” basis set for better accuracy. Calculate and plot out total molecular energy vs. bond distance in increments of 0.05 Å about your guessed minimum, including enough points to encompass the actual minimum. (You will find it convenient to subtract off the individual atom energies from the molecular total energy and to convert to more convenient units, like eV or kJ/mol.) By fitting the few points nearest the minimum, determine the equilibrium bond length. How does your result compare to literature?"
   ]
  },
  {
   "cell_type": "markdown",
   "metadata": {},
   "source": [
    "### 11. Use the quadratic fit from Question 10 to determine the harmonic vibrational frequency of your molecule, in cm$^{-1}$. Recall that the force constant is the second derivative of the energy at the minimum, and that the frequency (in wavenumbers) is related to the force constant according to $$\\tilde{\\nu} = \\frac{1}{2\\pi c}\\sqrt{\\frac{k}{\\mu}}$$"
   ]
  },
  {
   "cell_type": "markdown",
   "metadata": {},
   "source": [
    "### 12. Use your results to determine the zero-point-corrected bond energy of your molecule. How does this model compare with the experimental value?"
   ]
  },
  {
   "cell_type": "code",
   "execution_count": null,
   "metadata": {},
   "outputs": [],
   "source": []
  }
 ],
 "metadata": {
  "anaconda-cloud": {},
  "kernelspec": {
   "display_name": "Python [conda env:anaconda2]",
   "language": "python",
   "name": "conda-env-anaconda2-py"
  },
  "language_info": {
   "codemirror_mode": {
    "name": "ipython",
    "version": 2
   },
   "file_extension": ".py",
   "mimetype": "text/x-python",
   "name": "python",
   "nbconvert_exporter": "python",
   "pygments_lexer": "ipython2",
   "version": "2.7.14"
  }
 },
 "nbformat": 4,
 "nbformat_minor": 1
}
