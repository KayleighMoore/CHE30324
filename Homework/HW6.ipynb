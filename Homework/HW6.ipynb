{
 "cells": [
  {
   "cell_type": "markdown",
   "metadata": {},
   "source": [
    "# Chem 30324, Spring 2018, Homework 6\n",
    "\n",
    "# Due March 7, 2018"
   ]
  },
  {
   "cell_type": "markdown",
   "metadata": {},
   "source": [
    "## Quantum mechanics of vibrating NO.\n",
    "### The diatomic nitric oxide (NO) is an unusual and important molecule. It has an odd number of electrons, which is a rarity for stable molecule. It acts as a signaling molecule in the body, helping to regulate blood pressure, is a primary pollutant from combustion, and is a key constituent of smog. It exists in several isotopic forms, but the most common, ${}^{14}$N= ${}^{16}$O."
   ]
  },
  {
   "cell_type": "markdown",
   "metadata": {},
   "source": [
    "### 1. The ground vibrational wavefunction of N=O can be written "
   ]
  },
  {
   "cell_type": "markdown",
   "metadata": {},
   "source": [
    "$$\\Psi_{\\upsilon=0}(x) = \\left ({\\frac{1}{\\alpha\\sqrt{\\pi}}}\\right )^{1/2}e^{-x^2/2\\alpha^2}, \\quad x = R-R_{eq}, \\quad \\alpha = \\left ({\\frac{\\hbar^2}{\\mu k}}\\right )^{1/4}$$"
   ]
  },
  {
   "cell_type": "markdown",
   "metadata": {},
   "source": [
    "### where $x = R-R_{eq}$. Calculate $\\langle x\\rangle$ and $\\langle x^2\\rangle$ for NO in the $\\Psi_{\\upsilon=0}(x)$ state (you might want to use $\\alpha$ as a length unit)."
   ]
  },
  {
   "cell_type": "markdown",
   "metadata": {},
   "source": [
    "### 2. Calculate the average potential energy, $\\langle V(x)\\rangle$, in the ground state, in units of hν. Hint: This is trivial to calculate given the answer to question 1!"
   ]
  },
  {
   "cell_type": "markdown",
   "metadata": {},
   "source": [
    "### 3. Using conservation of energy and your answer to question 2, calculate the average kinetic energy, $\\langle T(x)\\rangle$, in the ground state, in units of $h\\nu$. Comment on the relationship between the kinetic and potential energies. This is a general result for all $\\nu$, and is a consequence of the virial theorem for the harmonic potential."
   ]
  },
  {
   "cell_type": "markdown",
   "metadata": {},
   "source": [
    "### 4. Calculate the classical minimum and maximum values of the $^{14}$N=$^{16}$O bond length for a molecule in the ground vibrational state. Hint: Calculate the classical limits on x, the value of x at which the kinetic energy is 0 and thus the total energy equals the potential energy."
   ]
  },
  {
   "cell_type": "markdown",
   "metadata": {},
   "source": [
    "### 5. Calculate the probability for a quantum mechanical ${}^{14}N= {}^{16}O$ molecule to have a bond length outside the classical limits. This is an example of quantum mechanical tunneling."
   ]
  },
  {
   "cell_type": "markdown",
   "metadata": {
    "collapsed": true
   },
   "source": [
    "## Statistical mechanics of vibrating NO"
   ]
  },
  {
   "cell_type": "markdown",
   "metadata": {},
   "source": [
    "### 6. Using your knowledge of the harmonic oscillator and the Boltzmann distribution, complete the table below for the first four harmonic vibrational states of $^{14}$N=$^{16}$O."
   ]
  },
  {
   "cell_type": "markdown",
   "metadata": {
    "collapsed": true
   },
   "source": [
    "|Quantum number|Energy (kJ/mol)| Relative population at 400 K| Relative population at 410 K |\n",
    "|--------------|---------------|-----------------------------|----------|\n",
    "| $v=0$ | | | |\n",
    "|  $v = 1$ |   |   |  | \n",
    "| $v=2$ | | | |\n",
    "| $v=3$ | | | |"
   ]
  },
  {
   "cell_type": "markdown",
   "metadata": {},
   "source": [
    "### 7. Use the table to estimate the average vibrational energy of a mole of $^{14}$N=$^{16}$O at 400 and 410 K."
   ]
  },
  {
   "cell_type": "markdown",
   "metadata": {},
   "source": [
    "### 8. Use your answer to Question 7 to estimate the vibrational heat capacity ($dE/dT$) of a mole of $^{14}$N=$^{16}$O in this temperature range. How does your answer compare to the classical estimate, $R=8.314$ J/mol K?"
   ]
  },
  {
   "cell_type": "markdown",
   "metadata": {},
   "source": [
    "### 9. Predict the harmonic vibrational frequency of the heavier cousin of $^{14}$N=$^{16}$O, $^{15}$N=$^{18}$O, in cm$^{-1}$. Assume the force constant is independent of isotope. Do you think these two isotopes could be distinguished using infrared spectroscopy?"
   ]
  },
  {
   "cell_type": "markdown",
   "metadata": {
    "collapsed": true
   },
   "source": [
    "## NO goes for a spin\n",
    "\n",
    "### ${}^{14}N={}^{16}O$ has an equilibrium bond length of 1.15077 Å"
   ]
  },
  {
   "cell_type": "markdown",
   "metadata": {},
   "source": [
    "### 10. Calculate the moment of inertia of ${}^{14}N= {}^{16}O$, in amu Å$^2$, and the rotational energy constant, $B$, in kJ mol$^{-1}$ and in cm$^{-1}$."
   ]
  },
  {
   "cell_type": "markdown",
   "metadata": {},
   "source": [
    "### 11. Imagine that the NO molecule is adsorbed flat on a surface upon which it is free to rotate. Plot out the energies of the four lowest-energy rotational quantum states, in units of $B$, being sure to include appropriate quantum numbers and degeneracies. Also indicate the total rotational angular moment of each state, in units of $\\hbar$."
   ]
  },
  {
   "cell_type": "markdown",
   "metadata": {},
   "source": [
    "### 12. Derive a selection rule for light-induced excitation of the plane-spinning NO molecule. *Hint:* Treat the NO as a 2-D rotor. Find the conditions on $\\Delta m_l$ that make the transition dipole moment integral $\\langle\\psi_{m_l}\\lvert x\\rvert\\psi_{m_l'}\\rangle$ non-zero. Recall that x can be written r cos φ in polar coordinates."
   ]
  },
  {
   "cell_type": "markdown",
   "metadata": {},
   "source": [
    "### 13. Now imagine the NO molecule is free to rotate in three-dimensional space. As in Question 2 above, plot out the energies of the four lowest-energy rotational quantum states, in units of $B$, being sure to include appropriate quantum numbers and degeneracies. Also indicate the total rotational angular moment of each state, in units of $\\hbar$."
   ]
  },
  {
   "cell_type": "markdown",
   "metadata": {},
   "source": [
    "### 14. Use the vector model to sketch the total angular momentum vectors consistent with $l = 1$."
   ]
  },
  {
   "cell_type": "code",
   "execution_count": null,
   "metadata": {
    "collapsed": true
   },
   "outputs": [],
   "source": []
  },
  {
   "cell_type": "code",
   "execution_count": null,
   "metadata": {
    "collapsed": true
   },
   "outputs": [],
   "source": []
  }
 ],
 "metadata": {
  "anaconda-cloud": {},
  "kernelspec": {
   "display_name": "Python 3",
   "language": "python",
   "name": "python3"
  },
  "language_info": {
   "codemirror_mode": {
    "name": "ipython",
    "version": 3
   },
   "file_extension": ".py",
   "mimetype": "text/x-python",
   "name": "python",
   "nbconvert_exporter": "python",
   "pygments_lexer": "ipython3",
   "version": "3.6.3"
  }
 },
 "nbformat": 4,
 "nbformat_minor": 1
}
