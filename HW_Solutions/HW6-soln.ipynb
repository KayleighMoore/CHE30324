{
 "cells": [
  {
   "cell_type": "markdown",
   "metadata": {},
   "source": [
    "# Chem 30324, Spring 2018, Homework 6\n",
    "\n",
    "# Due March 7, 2018"
   ]
  },
  {
   "cell_type": "markdown",
   "metadata": {},
   "source": [
    "## Quantum mechanics of vibrating NO.\n",
    "### The diatomic nitric oxide (NO) is an unusual and important molecule. It has an odd number of electrons, which is a rarity for stable molecule. It acts as a signaling molecule in the body, helping to regulate blood pressure, is a primary pollutant from combustion, and is a key constituent of smog. It exists in several isotopic forms, but the most common, ${}^{14}$N= ${}^{16}$O."
   ]
  },
  {
   "cell_type": "markdown",
   "metadata": {},
   "source": [
    "### 1. The ground vibrational wavefunction of N=O can be written "
   ]
  },
  {
   "cell_type": "markdown",
   "metadata": {},
   "source": [
    "$$\\Psi_{\\upsilon=0}(x) = \\left ({\\frac{1}{\\alpha\\sqrt{\\pi}}}\\right )^{1/2}e^{-x^2/2\\alpha^2}, \\quad x = R-R_{eq}, \\quad \\alpha = \\left ({\\frac{\\hbar^2}{\\mu k}}\\right )^{1/4}$$"
   ]
  },
  {
   "cell_type": "markdown",
   "metadata": {},
   "source": [
    "### where $x = R-R_{eq}$. Calculate $\\langle x\\rangle$ and $\\langle x^2\\rangle$ for NO in the $\\Psi_{\\upsilon=0}(x)$ state (you might want to use $\\alpha$ as a length unit)."
   ]
  },
  {
   "cell_type": "markdown",
   "metadata": {},
   "source": [
    "$$\\langle x\\rangle = \\langle\\Psi_{\\upsilon=0}(x)\\lvert x\\rvert\\Psi_{\\upsilon=0}(x)\\rangle,\\quad \\Psi_{\\upsilon=0}(x) = \\left ({\\frac{1}{\\alpha\\sqrt{\\pi}}}\\right )^{1/2}e^{-x^2/2\\alpha^2}$$\n",
    "$\\Psi_{\\upsilon=0}(x)$ is an even function in the domain of ($-\\infty,\\infty$). x is an odd function in ($-\\infty,\\infty$). So $x\\Psi^2(x)$ is an odd function, the integral is zero according to the symmetry of the wavefunctions. "
   ]
  },
  {
   "cell_type": "markdown",
   "metadata": {},
   "source": [
    "$$\\langle x^2\\rangle = \\langle\\Psi_{\\upsilon=0}(x)\\lvert x^2\\rvert\\Psi_{\\upsilon=0}(x)\\rangle = N_0^2\\int_{-\\infty}^{\\infty}x^2e^{-x^2/\\alpha^2}dx,\\quad N_0 = \\left ({\\frac{1}{\\alpha\\sqrt{\\pi}}}\\right )^{1/2}$$\n",
    "Use python to calculate $\\int_{-\\infty}^{\\infty}x^2e^{-x^2/\\alpha^2}dx$:"
   ]
  },
  {
   "cell_type": "code",
   "execution_count": 1,
   "metadata": {},
   "outputs": [
    {
     "name": "stdout",
     "output_type": "stream",
     "text": [
      "    3\n",
      "√π⋅a \n",
      "─────\n",
      "  2  \n"
     ]
    }
   ],
   "source": [
    "from sympy import * # import sympy for symbolic mathematics\n",
    "x = symbols('x')\n",
    "a = symbols('a',positive=True)\n",
    "pprint(integrate((x**2*exp(-x**2/a**2)),(x,-oo,oo)))"
   ]
  },
  {
   "cell_type": "markdown",
   "metadata": {},
   "source": [
    "So, $\\langle x^2\\rangle = N_0^2\\frac{\\sqrt{\\pi}\\alpha^3}{2} = \\frac{1}{\\alpha\\sqrt{\\pi}}\\frac{\\sqrt{\\pi}\\alpha^3}{2} = \\frac{\\alpha^2}{2}$"
   ]
  },
  {
   "cell_type": "markdown",
   "metadata": {},
   "source": [
    "### 2. Calculate the average potential energy, $\\langle V(x)\\rangle$, in the ground state, in units of hν. Hint: This is trivial to calculate given the answer to question 1!"
   ]
  },
  {
   "cell_type": "markdown",
   "metadata": {},
   "source": [
    "$\\langle V(x)\\rangle = \\frac{1}{2}k\\langle x^2\\rangle = \\frac{k\\alpha^2}{4}$, plug in $\\alpha = \\left ({\\frac{\\hbar^2}{\\mu k}}\\right )^{1/4}$, we can get $\\langle V(x)\\rangle = \\frac{k\\alpha^2}{4} = \\frac{k}{4}\\left ({\\frac{\\hbar^2}{\\mu k}}\\right )^{1/2} = \\frac{\\hbar}{4}\\sqrt{\\frac{k}{\\mu}}$. From $\\nu = \\frac{1}{2\\pi}\\sqrt{\\frac{k}{\\mu}}$, we can get $\\langle V(x)\\rangle = \\frac{\\hbar}{4}\\times 2\\pi\\nu = \\frac{h\\nu}{4}$."
   ]
  },
  {
   "cell_type": "markdown",
   "metadata": {},
   "source": [
    "### 3. Using conservation of energy and your answer to question 2, calculate the average kinetic energy, $\\langle T(x)\\rangle$, in the ground state, in units of hν. Comment on the relationship between the kinetic and potential energies. This is a general result for all υ, and is a consequence of the virial theorem for the harmonic potential."
   ]
  },
  {
   "cell_type": "markdown",
   "metadata": {},
   "source": [
    "$$E = \\langle V(x)\\rangle + \\langle T(x)\\rangle$$ In the ground state, $E = \\frac{h\\nu}{2}, \\langle V(x)\\rangle = \\frac{h\\nu}{4}$, so, $\\langle T(x)\\rangle = E(x) - \\langle V(x)\\rangle = \\frac{h\\nu}{4}$, which means $\\langle T(x)\\rangle = \\langle V(x)\\rangle$. The relationship $\\langle T(x)\\rangle = \\langle V(x)\\rangle$ is also true for classical harmonic oscillator."
   ]
  },
  {
   "cell_type": "markdown",
   "metadata": {},
   "source": [
    "### 4. Calculate the classical minimum and maximum values of the $^{14}$N=$^{16}$O bond length for a molecule in the ground vibrational state. Hint: Calculate the classical limits on x, the value of x at which the kinetic energy is 0 and thus the total energy equals the potential energy."
   ]
  },
  {
   "cell_type": "markdown",
   "metadata": {},
   "source": [
    "When the kinetic energy is 0, we can get V(x) = E, which means $\\frac{1}{2}kx^2 = \\frac{1}{2}h\\nu$. We can get the value of x by solving the equation. From what we got in question 2, $\\langle V(x)\\rangle = \\frac{k\\alpha^2}{4} = \\frac{h\\nu}{4}$, so $k\\alpha^2 = h\\nu$. So $\\frac{1}{2}kx^2 = \\frac{1}{2}k\\alpha^2$, $x = -\\alpha$ or $x = \\alpha$."
   ]
  },
  {
   "cell_type": "markdown",
   "metadata": {},
   "source": [
    "We can get the value of $\\alpha$ from k and $\\nu$ by $\\tilde{\\nu}$ = 1904 $cm^{-1}$, $\\nu = c\\tilde{\\nu}$ and $\\nu = \\frac{1}{2\\pi}\\sqrt{\\frac{k}{\\mu}}$."
   ]
  },
  {
   "cell_type": "code",
   "execution_count": 1,
   "metadata": {},
   "outputs": [
    {
     "name": "stdout",
     "output_type": "stream",
     "text": [
      "The value of alpha is 0.04870 angstroms.\n"
     ]
    }
   ],
   "source": [
    "import numpy as np\n",
    "\n",
    "wavenumber = 190400 # m^-1\n",
    "c = 2.998e8 # m/s, the speed of light\n",
    "N_14 = 14.003 # amu\n",
    "O_16 = 15.995 # amu\n",
    "hbar = 1.05457e-34 # J*s\n",
    "\n",
    "nu = c*wavenumber # s^-1, frequency\n",
    "mu = N_14*O_16/(N_14+O_16)*1.6605e-27 # kg, reduced mass\n",
    "k = (2*np.pi*nu)**2*mu # N/m, force constant\n",
    "alpha = (hbar**2/mu/k)**0.25\n",
    "print('The value of alpha is {:.5f} angstroms.'.format(alpha*1e10))"
   ]
  },
  {
   "cell_type": "markdown",
   "metadata": {},
   "source": [
    "$R_{max} = R_{eq}+\\alpha$,  $R_{min} = R_{eq}-\\alpha$"
   ]
  },
  {
   "cell_type": "code",
   "execution_count": 2,
   "metadata": {},
   "outputs": [
    {
     "name": "stdout",
     "output_type": "stream",
     "text": [
      "The classical maximum value of the bond length is 1.19947 angstroms. The classical minimum value of the bond length is 1.10207 angstroms.\n"
     ]
    }
   ],
   "source": [
    "R_eq = 1.15077e-10 # m, bond length\n",
    "R_max = R_eq + alpha # m, the maximum value of the bond length\n",
    "R_min = R_eq - alpha # m, the minimum value of the bond length\n",
    "print('The classical maximum value of the bond length is {0:.5f} angstroms. The classical minimum value of the bond length is {1:.5f} angstroms.'.format(R_max*1e10,R_min*1e10))"
   ]
  },
  {
   "cell_type": "markdown",
   "metadata": {},
   "source": [
    "### 5. Calculate the probability for a quantum mechanical ${}^{14}N= {}^{16}O$ molecule to have a bond length outside the classical limits. This is an example of quantum mechanical tunneling."
   ]
  },
  {
   "cell_type": "markdown",
   "metadata": {},
   "source": [
    "$$P_{within-the-limits} = \\int_{x_-}^{x_+}\\Psi_{\\upsilon=0}^2(x)dx = \\frac{1}{\\alpha\\sqrt{\\pi}}\\int_{-\\alpha}^{\\alpha}e^{-x^2/\\alpha^2}dx \\stackrel{\\text{x/$\\alpha$=y}}{=} \\frac{1}{\\sqrt{\\pi}}\\int_{-1}^{1}e^{-y^2}dy$$"
   ]
  },
  {
   "cell_type": "code",
   "execution_count": 3,
   "metadata": {},
   "outputs": [
    {
     "name": "stdout",
     "output_type": "stream",
     "text": [
      "erf(1)\n"
     ]
    }
   ],
   "source": [
    "from sympy import *\n",
    "y = symbols('y')\n",
    "pprint(integrate(1/sqrt(pi)*exp(-y**2),(y,-1,1)))"
   ]
  },
  {
   "cell_type": "markdown",
   "metadata": {},
   "source": [
    "$P_{outside-the-limits}$ = 1 - erf(1) = 0.15730"
   ]
  },
  {
   "cell_type": "markdown",
   "metadata": {
    "collapsed": true
   },
   "source": [
    "## Statistical mechanics of vibrating NO"
   ]
  },
  {
   "cell_type": "markdown",
   "metadata": {},
   "source": [
    "### 6. Using your knowledge of the harmonic oscillator and the Boltzmann distribution, complete the table below for the first four harmonic vibrational states of $^{14}$N=$^{16}$O."
   ]
  },
  {
   "cell_type": "markdown",
   "metadata": {
    "collapsed": true
   },
   "source": [
    "|Quantum number|Energy (kJ/mol)| Relative population at 400 K| Relative population at 410 K |\n",
    "|--------------|---------------|-----------------------------|----------|\n",
    "| $v=0$ |11.389|1|1|\n",
    "| $v=1$ |34.166|1.0608$\\times10^{-3}$|1.2536$\\times10^{-3}$| \n",
    "| $v=2$ |56.944|1.1253$\\times10^{-6}$|1.5716$\\times10^{-6}$|\n",
    "| $v=3$ |79.721|1.1937$\\times10^{-9}$|1.9703$\\times10^{-9}$|"
   ]
  },
  {
   "cell_type": "code",
   "execution_count": 10,
   "metadata": {},
   "outputs": [
    {
     "name": "stdout",
     "output_type": "stream",
     "text": [
      "The energy of v=0 is 11.389 kJ/mol, the relative population at 400 K is 1.0000E+00, the relative population at 410 K is 1.0000E+00.\n",
      "The energy of v=1 is 34.166 kJ/mol, the relative population at 400 K is 1.0608E-03, the relative population at 410 K is 1.2536E-03.\n",
      "The energy of v=2 is 56.944 kJ/mol, the relative population at 400 K is 1.1253E-06, the relative population at 410 K is 1.5716E-06.\n",
      "The energy of v=3 is 79.721 kJ/mol, the relative population at 400 K is 1.1937E-09, the relative population at 410 K is 1.9703E-09.\n"
     ]
    }
   ],
   "source": [
    "import numpy as np\n",
    "h = 6.62607e-34 # J*s\n",
    "wavenumber = 190400 # m^-1\n",
    "c = 2.998e8 # m/s, the speed of light\n",
    "nu = c*wavenumber # s^-1, frequency\n",
    "NA = 6.02214e23\n",
    "R = 8.31447 # J/mol/K\n",
    "T1 = 400 # K\n",
    "T2 = 410 # K\n",
    "E = [] \n",
    "P1,P2 = [],[]\n",
    "for n in [0,1,2,3]:\n",
    "    E.append((n+0.5)*h*nu*NA) # J/mol, energy \n",
    "    P1.append(np.exp(-E[n]/R/T1)/np.exp(-E[0]/R/T1)) # relative population at T1\n",
    "    P2.append(np.exp(-E[n]/R/T2)/np.exp(-E[0]/R/T2)) # relative population at T2\n",
    "    print('The energy of v={0:.0f} is {1:.3f} kJ/mol, the relative population at 400 K is {2:.4E}, the relative population at 410 K is {3:.4E}.'.format(n,E[n]/1000,P1[n],P2[n]))"
   ]
  },
  {
   "cell_type": "markdown",
   "metadata": {},
   "source": [
    "### 7. Use the table to estimate the average vibrational energy of a mole of $^{14}$N=$^{16}$O at 400 and 410 K."
   ]
  },
  {
   "cell_type": "code",
   "execution_count": 11,
   "metadata": {},
   "outputs": [
    {
     "name": "stdout",
     "output_type": "stream",
     "text": [
      "The average vibrational energy of a mole of NO is 11.413 kJ at 400 K.\n",
      "The average vibrational energy of a mole of NO is 11.417 kJ at 410 K\n"
     ]
    }
   ],
   "source": [
    "P1_total,P2_total = 0,0\n",
    "E1,E2 = 0,0\n",
    "for n in [0,1,2,3]:\n",
    "    P1_total += P1[n] # add all the relative probabilities at T1 together\n",
    "    P2_total += P2[n] # add all the relative probabilities at T2 together\n",
    "for n in [0,1,2,3]:\n",
    "    E1 += E[n]*P1[n]/P1_total # calulate weighted average energy at T1\n",
    "    E2 += E[n]*P2[n]/P2_total # calulate weighted average energy at T2\n",
    "print('The average vibrational energy of a mole of NO is {0:.3f} kJ at 400 K.\\nThe average vibrational energy of a mole of NO is {1:.3f} kJ at 410 K'.format(E1/1000,E2/1000))"
   ]
  },
  {
   "cell_type": "markdown",
   "metadata": {},
   "source": [
    "### 8. Use your answer to Question 7 to estimate the vibrational heat capacity ($dE/dT$) of a mole of $^{14}$N=$^{16}$O in this temperature range. How does your answer compare to the classical estimate, $R=8.314$ J/mol K?"
   ]
  },
  {
   "cell_type": "code",
   "execution_count": 12,
   "metadata": {},
   "outputs": [
    {
     "name": "stdout",
     "output_type": "stream",
     "text": [
      "The vibrational heat capacity in this temperature range is 0.44030 J/(molK).\n"
     ]
    }
   ],
   "source": [
    "print('The vibrational heat capacity in this temperature range is {:.5f} J/(molK).'.format((E2-E1)/10))"
   ]
  },
  {
   "cell_type": "markdown",
   "metadata": {},
   "source": [
    "The classical estimate is incorrect in this temperature range. Because in the classical estimate, the energy is continuous. In fact, at higher temperatures, the energy levels are closer to continuous and the vibrational heat capacity will approach the classical estimate."
   ]
  },
  {
   "cell_type": "markdown",
   "metadata": {},
   "source": [
    "### 9. Predict the harmonic vibrational frequency of the heavier cousin of $^{14}$N=$^{16}$O, $^{15}$N=$^{18}$O, in cm$^{-1}$. Assume the force constant is independent of isotope. Do you think these two isotopes could be distinguished using infrared spectroscopy?"
   ]
  },
  {
   "cell_type": "markdown",
   "metadata": {
    "collapsed": true
   },
   "source": [
    "From $\\nu = c\\tilde{\\nu}$ and $\\nu = \\frac{1}{2\\pi}\\sqrt{\\frac{k}{\\mu}}$, we can get $\\tilde{\\nu} = \\frac{1}{2\\pi c}\\sqrt{\\frac{k}{\\mu}}$."
   ]
  },
  {
   "cell_type": "markdown",
   "metadata": {},
   "source": [
    "$\\frac{\\tilde{\\nu}_{^{15}N^{18}O}}{\\tilde{\\nu}_{^{14}N^{16}O}} = \\sqrt{\\frac{\\mu_{^{14}N^{16}O}}{\\mu_{^{15}N^{18}O}}}$"
   ]
  },
  {
   "cell_type": "code",
   "execution_count": 9,
   "metadata": {},
   "outputs": [
    {
     "name": "stdout",
     "output_type": "stream",
     "text": [
      "The harmonic vibrational frequency of the heavier cousin is 1819 cm^(-1).\n"
     ]
    }
   ],
   "source": [
    "import numpy as np\n",
    "wavenumber = 1904 # cm^-1\n",
    "N_14 = 14.003 # amu\n",
    "O_16 = 15.995 # amu\n",
    "mu_1 = N_14*O_16/(N_14+O_16) # amu, reduced mass\n",
    "N_15 = 15.000 # amu\n",
    "O_18 = 17.999 # amu\n",
    "mu_2 = N_15*O_18/(N_15+O_18) # amu, reduced mass\n",
    "print('The harmonic vibrational frequency of the heavier cousin is {:.0f} cm^(-1).'.format(np.sqrt(mu_1/mu_2)*wavenumber))"
   ]
  },
  {
   "cell_type": "markdown",
   "metadata": {},
   "source": [
    "These two isotopes could be distinguished using infrared spectroscopy."
   ]
  },
  {
   "cell_type": "markdown",
   "metadata": {
    "collapsed": true
   },
   "source": [
    "## NO goes for a spin\n",
    "\n",
    "### ${}^{14}$N=${}^{16}$O has an equilibrium bond length of 1.15077 Å."
   ]
  },
  {
   "cell_type": "markdown",
   "metadata": {},
   "source": [
    "### 10. Calculate the moment of inertia of ${}^{14}N= {}^{16}O$, in amu Å$^2$, and the rotational energy constant, $B$, in kJ mol$^{-1}$ and in cm$^{-1}$."
   ]
  },
  {
   "cell_type": "markdown",
   "metadata": {},
   "source": [
    "Moment of inertia: $I = \\mu r^2$. Rotational energy constant: $B = \\frac{\\hbar^2}{2I}$ (J); $B = \\frac{\\hbar}{4\\pi Ic}$ (cm$^{-1}$)."
   ]
  },
  {
   "cell_type": "code",
   "execution_count": 2,
   "metadata": {},
   "outputs": [
    {
     "name": "stdout",
     "output_type": "stream",
     "text": [
      "The moment of inertia is 9.8876 amu*angstrom^2. The rotational energy constant B is 0.0204 kJ/mol, 1.7049 cm^-1.\n"
     ]
    }
   ],
   "source": [
    "import numpy as np\n",
    "\n",
    "N_14 = 14.003 # amu\n",
    "O_16 = 15.995 # amu\n",
    "mu = N_14*O_16/(N_14+O_16) # amu, reduced mass\n",
    "r = 1.15077 # angstrom, bond length\n",
    "hbar = 1.05457e-34 # J*s\n",
    "c = 2.998e10 # cm/s\n",
    "NA = 6.02214e23\n",
    "\n",
    "I = mu*r**2 # amu*angstrom^2\n",
    "I_ = I*1.6605e-27*1e-20 # kg*m^2\n",
    "B = hbar**2/(2*I_) # J\n",
    "B_ = hbar/(4*np.pi*I_*c) # cm^-1\n",
    "print ('The moment of inertia is {0:.4f} amu*angstrom^2. The rotational energy constant B is {1:.4f} kJ/mol, {2:.4f} cm^-1.'.format(I,B*NA/1000,B_))\n"
   ]
  },
  {
   "cell_type": "markdown",
   "metadata": {},
   "source": [
    "### 11. Imagine that the NO molecule is adsorbed flat on a surface upon which it is free to rotate. Plot out the energies of the four lowest-energy rotational quantum states, in units of *B*, being sure to include appropriate quantum numbers and degeneracies. Also indicate the total rotational angular moment of each state, in units of $\\hbar$."
   ]
  },
  {
   "cell_type": "markdown",
   "metadata": {},
   "source": [
    "2-D rigid rotor model: $E_{m_l} = \\frac{\\hbar^2m_l^2}{2I} = Bm_l^2$. Four lowest-energy rotational quantum states $m_l = 0, \\pm1, \\pm2, \\pm3$. Total rotational angular moment: $L_z = m_l\\hbar$."
   ]
  },
  {
   "cell_type": "markdown",
   "metadata": {},
   "source": [
    "![](imgs/HW6-1.jpg)"
   ]
  },
  {
   "cell_type": "markdown",
   "metadata": {},
   "source": [
    "### 12. Derive a selection rule for light-induced excitation of the plane-spinning NO molecule. *Hint:* Treat the NO as a 2-D rotor. Find the conditions on $\\Delta m_l$ that make the transition dipole moment integral $\\langle\\psi_{m_l}\\lvert x\\rvert\\psi_{m_l'}\\rangle$ non-zero. Recall that x can be written r cos φ in polar coordinates."
   ]
  },
  {
   "cell_type": "markdown",
   "metadata": {},
   "source": [
    "The wavefuction of a 2-D rotor: $\\psi_{m_l}(\\phi) = \\frac{1}{\\sqrt{2\\pi}}e^{-im_l\\phi}$. $\\langle\\psi_{m_l}\\lvert x\\rvert\\psi_{m_l'}\\rangle = \\int_{0}^{2\\pi}\\frac{1}{\\sqrt{2\\pi}}e^{im_l\\phi}x\\frac{1}{\\sqrt{2\\pi}}e^{-im_l'\\phi}d\\phi = \\frac{r}{2\\pi}\\int_{0}^{2\\pi}e^{i\\Delta m_l\\phi}cos\\phi d\\phi$.\n",
    "\n",
    "Plug in $cos\\phi = \\frac{e^{-i\\phi}+e^{i\\phi}}{2}$, we can get $\\frac{r}{4\\pi}\\int_{0}^{2\\pi}(e^{i(\\Delta m_l-1)\\phi}+e^{i(\\Delta m_l+1)\\phi}) d\\phi$. For an integer n, only when n = 0, the integral $\\int_{0}^{2\\pi}e^{in\\phi}d\\phi \\neq 0$. \n",
    "\n",
    "So, we can get when $\\Delta m_l = \\pm1$ the transition dipole moment integral is non-zero."
   ]
  },
  {
   "cell_type": "markdown",
   "metadata": {},
   "source": [
    "### 13. Now imagine the NO molecule is free to rotate in three-dimensional space. As in Question 11 above, plot out the energies of the four lowest-energy rotational quantum states, in units of *B*, being sure to include appropriate quantum numbers and degeneracies. Also indicate the total rotational angular moment of each state, in units of $\\hbar$."
   ]
  },
  {
   "cell_type": "markdown",
   "metadata": {},
   "source": [
    "3-D rigid rotor model: $E_l = \\frac{\\hbar^2}{2I}l(l+1) = Bl(l+1)$. Four lowest-energy rotational quantum states $l = 0, 1, 2, 3$. Total rotational angular moment: $\\lvert L\\rvert = \\hbar\\sqrt{l(l+1)}$."
   ]
  },
  {
   "cell_type": "markdown",
   "metadata": {},
   "source": [
    "![](imgs/HW6-2.jpg)"
   ]
  },
  {
   "cell_type": "markdown",
   "metadata": {},
   "source": [
    "### 14. Use the vector model to sketch the total angular momentum vectors consistent with $l = 1$."
   ]
  },
  {
   "cell_type": "markdown",
   "metadata": {},
   "source": [
    "![](imgs/HW6-3.jpg)"
   ]
  },
  {
   "cell_type": "markdown",
   "metadata": {
    "collapsed": true
   },
   "source": [
    "![](imgs/HW6-3.jpg)"
   ]
  },
  {
   "cell_type": "code",
   "execution_count": null,
   "metadata": {
    "collapsed": true
   },
   "outputs": [],
   "source": []
  }
 ],
 "metadata": {
  "anaconda-cloud": {},
  "kernelspec": {
   "display_name": "Python 3",
   "language": "python",
   "name": "python3"
  },
  "language_info": {
   "codemirror_mode": {
    "name": "ipython",
    "version": 3
   },
   "file_extension": ".py",
   "mimetype": "text/x-python",
   "name": "python",
   "nbconvert_exporter": "python",
   "pygments_lexer": "ipython3",
   "version": "3.6.3"
  }
 },
 "nbformat": 4,
 "nbformat_minor": 1
}
