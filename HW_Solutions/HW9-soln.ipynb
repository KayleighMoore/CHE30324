{
 "cells": [
  {
   "cell_type": "markdown",
   "metadata": {},
   "source": [
    "# Chem 30324, Spring 2018, Homework 9\n",
    "Due April 11, 2018"
   ]
  },
  {
   "cell_type": "markdown",
   "metadata": {},
   "source": [
    "## Molecular Orbitals.\n",
    "### The orbitals in molecules can be constructed from linear combinations of atomic orbitals on the constituent atoms (in this context, the atomic orbitals are called “basis functions”). One of the factors that determines whether two atomic orbitals can form a molecular orbital is there ability to overlap. Consider two atoms, A and B, aligned on the z axis and separated by a distance $R$."
   ]
  },
  {
   "cell_type": "markdown",
   "metadata": {},
   "source": [
    "### 1. The overlap between two 1s orbitals on A and B can be shown to be: $$S = \\left \\{1+\\frac{R}{a_0}+\\frac{1}{3}\\left (\\frac{R}{a_0}\\right )^2\\right \\}e^{-R/a_0}$$ Plot out the overlap as a function of the internuclear distance $R$. Qualitatively explain why it has the shape it has."
   ]
  },
  {
   "cell_type": "code",
   "execution_count": 17,
   "metadata": {
    "collapsed": false
   },
   "outputs": [
    {
     "data": {
      "image/png": "[encoded data removed]",
      "text/plain": [
       "<matplotlib.figure.Figure at 0x7fa6f8cf1ef0>"
      ]
     },
     "metadata": {},
     "output_type": "display_data"
    }
   ],
   "source": [
    "import numpy as np\n",
    "import matplotlib.pyplot as plt\n",
    "\n",
    "r = np.linspace(0,16,100) # r = R/a_0\n",
    "P = (1+r+1/3*r**2)*np.exp(-r)\n",
    "plt.plot(r,P)\n",
    "\n",
    "plt.xlim(0,16)\n",
    "plt.ylim(0,1.1)\n",
    "plt.xlabel('Internuclear Distance $R/a_0$')\n",
    "plt.ylabel('Overlap S')\n",
    "plt.title('The Overlap Between Two 1s Orbitals')\n",
    "plt.show()"
   ]
  },
  {
   "cell_type": "markdown",
   "metadata": {},
   "source": [
    "At R = 0, the two orbitals overlap completely, thus overlap integral S = 1. As R increases, the orbital overlap decreases, then it approaches a point where there is no orbital overlap (S = 0)."
   ]
  },
  {
   "cell_type": "markdown",
   "metadata": {},
   "source": [
    "### 2. The overlap functions for other pairs of orbitals are more complicated, but the general features are easily inferred. Neatly sketch the orbital overlap between a 1s orbital on A and 2p$_z$ orbital on B as a function $R$. Carefully indicate the limiting values as $R \\rightarrow 0$ and $R \\rightarrow \\infty$."
   ]
  },
  {
   "cell_type": "markdown",
   "metadata": {},
   "source": [
    "![](imgs/HW9-1.jpg)"
   ]
  },
  {
   "cell_type": "markdown",
   "metadata": {},
   "source": [
    "### 3. Ditto for 1s orbital on A and 2p$_x$ orbital on B."
   ]
  },
  {
   "cell_type": "markdown",
   "metadata": {},
   "source": [
    "### 4. Ditto for 2p$_z$ orbital on A and 2p$_z$ orbital on B."
   ]
  },
  {
   "cell_type": "markdown",
   "metadata": {},
   "source": [
    "### 5. Ditto for 2p$_z$ orbital on A and 3d$_z^2$ orbital on B."
   ]
  },
  {
   "cell_type": "markdown",
   "metadata": {},
   "source": [
    "### 6. What property besides overlap determines whether two atomic orbitals will form a molecular orbital?"
   ]
  },
  {
   "cell_type": "markdown",
   "metadata": {},
   "source": [
    "The energies of the two atomic orbitals should match."
   ]
  },
  {
   "cell_type": "markdown",
   "metadata": {},
   "source": [
    "## The Hückel model and π orbitals"
   ]
  },
  {
   "cell_type": "markdown",
   "metadata": {},
   "source": [
    "### One of the first successes of molecular orbital theory was application to the π systems of conjugated hydrocarbons. (See [Roberts, Notes on Molecular Orbital Theory](http://resolver.caltech.edu/CaltechBOOK:1961.001).) In the Hückel model, one constructs a π-only secular matrix and uses simple rules for the matrix elements. $S_{ii} = 1$ for a basis function with itself and $S_{ij} = 0$ otherwise. $F_{ii} = \\alpha$ for a basis function with itself, $F_{ij}=\\beta$ between adjacent atoms, and $F_{ij}=0$ otherwise. "
   ]
  },
  {
   "cell_type": "markdown",
   "metadata": {},
   "source": [
    "### 7. Construct and solve the secular matrix for cyclopentane, C$_5$H$_5$.  Make an energy level diagram for the π system."
   ]
  },
  {
   "cell_type": "code",
   "execution_count": 19,
   "metadata": {
    "collapsed": false
   },
   "outputs": [],
   "source": [
    "from sympy import *\n",
    "alpha,beta = symbols('alpha beta')\n",
    "M=Matrix([[alpha, beta, 0 , 0, beta],[beta, alpha, beta, 0, 0],[0, beta, alpha, beta, 0],[0, 0, beta, alpha, beta],[beta, 0, 0, beta, alpha]])"
   ]
  },
  {
   "cell_type": "code",
   "execution_count": 20,
   "metadata": {
    "collapsed": false
   },
   "outputs": [
    {
     "data": {
      "image/png": "[encoded data removed]",
      "text/latex": [
       "$$\\left[\\begin{matrix}\\alpha & \\beta & 0 & 0 & \\beta\\\\\\beta & \\alpha & \\beta & 0 & 0\\\\0 & \\beta & \\alpha & \\beta & 0\\\\0 & 0 & \\beta & \\alpha & \\beta\\\\\\beta & 0 & 0 & \\beta & \\alpha\\end{matrix}\\right]$$"
      ],
      "text/plain": [
       "⎡α  β  0  0  β⎤\n",
       "⎢             ⎥\n",
       "⎢β  α  β  0  0⎥\n",
       "⎢             ⎥\n",
       "⎢0  β  α  β  0⎥\n",
       "⎢             ⎥\n",
       "⎢0  0  β  α  β⎥\n",
       "⎢             ⎥\n",
       "⎣β  0  0  β  α⎦"
      ]
     },
     "execution_count": 20,
     "metadata": {},
     "output_type": "execute_result"
    }
   ],
   "source": [
    "M"
   ]
  },
  {
   "cell_type": "code",
   "execution_count": 21,
   "metadata": {
    "collapsed": false
   },
   "outputs": [
    {
     "data": {
      "image/png": "[encoded data removed]",
      "text/latex": [
       "$$\\left [ \\left ( \\alpha + 2 \\beta, \\quad 1, \\quad \\left [ \\left[\\begin{matrix}1\\\\1\\\\1\\\\1\\\\1\\end{matrix}\\right]\\right ]\\right ), \\quad \\left ( \\alpha - \\frac{\\beta}{2} + \\frac{\\sqrt{5} \\beta}{2}, \\quad 2, \\quad \\left [ \\left[\\begin{matrix}\\frac{4}{\\left(1 + \\sqrt{5}\\right) \\left(- \\sqrt{5} + 1\\right)}\\\\- \\frac{2}{1 + \\sqrt{5}}\\\\\\frac{2}{1 + \\sqrt{5}}\\\\1\\\\0\\end{matrix}\\right], \\quad \\left[\\begin{matrix}- \\frac{4}{\\left(- \\sqrt{5} + 1\\right)^{2}} - \\frac{2}{- \\sqrt{5} + 1} + \\frac{8}{\\left(1 + \\sqrt{5}\\right) \\left(- \\sqrt{5} + 1\\right)^{2}}\\\\\\frac{2}{- \\sqrt{5} + 1} - \\frac{4}{\\left(1 + \\sqrt{5}\\right) \\left(- \\sqrt{5} + 1\\right)}\\\\\\frac{4}{\\left(1 + \\sqrt{5}\\right) \\left(- \\sqrt{5} + 1\\right)}\\\\0\\\\1\\end{matrix}\\right]\\right ]\\right ), \\quad \\left ( \\alpha - \\frac{\\sqrt{5} \\beta}{2} - \\frac{\\beta}{2}, \\quad 2, \\quad \\left [ \\left[\\begin{matrix}- \\frac{4}{\\left(-1 + \\sqrt{5}\\right) \\left(1 + \\sqrt{5}\\right)}\\\\\\frac{2}{-1 + \\sqrt{5}}\\\\- \\frac{2}{-1 + \\sqrt{5}}\\\\1\\\\0\\end{matrix}\\right], \\quad \\left[\\begin{matrix}- \\frac{2}{1 + \\sqrt{5}} - \\frac{8}{\\left(-1 + \\sqrt{5}\\right) \\left(1 + \\sqrt{5}\\right)^{2}} - \\frac{4}{\\left(1 + \\sqrt{5}\\right)^{2}}\\\\\\frac{2}{1 + \\sqrt{5}} + \\frac{4}{\\left(-1 + \\sqrt{5}\\right) \\left(1 + \\sqrt{5}\\right)}\\\\- \\frac{4}{\\left(-1 + \\sqrt{5}\\right) \\left(1 + \\sqrt{5}\\right)}\\\\0\\\\1\\end{matrix}\\right]\\right ]\\right )\\right ]$$"
      ],
      "text/plain": [
       "⎡                     ⎛    β   √5⋅β     ⎡⎡        4         ⎤  ⎡      4       \n",
       "⎢⎛α + 2⋅β, 1, ⎡⎡1⎤⎤⎞, ⎜α - ─ + ────, 2, ⎢⎢──────────────────⎥, ⎢- ────────── -\n",
       "⎢⎜            ⎢⎢ ⎥⎥⎟  ⎜    2    2       ⎢⎢(1 + √5)⋅(-√5 + 1)⎥  ⎢           2  \n",
       "⎢⎜            ⎢⎢1⎥⎥⎟  ⎜                 ⎢⎢                  ⎥  ⎢  (-√5 + 1)   \n",
       "⎢⎜            ⎢⎢ ⎥⎥⎟  ⎜                 ⎢⎢       -2         ⎥  ⎢              \n",
       "⎢⎜            ⎢⎢1⎥⎥⎟  ⎜                 ⎢⎢      ──────      ⎥  ⎢           2  \n",
       "⎢⎜            ⎢⎢ ⎥⎥⎟  ⎜                 ⎢⎢      1 + √5      ⎥  ⎢        ──────\n",
       "⎢⎜            ⎢⎢1⎥⎥⎟  ⎜                 ⎢⎢                  ⎥  ⎢        -√5 + \n",
       "⎢⎜            ⎢⎢ ⎥⎥⎟  ⎜                 ⎢⎢        2         ⎥  ⎢              \n",
       "⎢⎝            ⎣⎣1⎦⎦⎠  ⎜                 ⎢⎢      ──────      ⎥  ⎢              \n",
       "⎢                     ⎜                 ⎢⎢      1 + √5      ⎥  ⎢             ─\n",
       "⎢                     ⎜                 ⎢⎢                  ⎥  ⎢             (\n",
       "⎢                     ⎜                 ⎢⎢        1         ⎥  ⎢              \n",
       "⎢                     ⎜                 ⎢⎢                  ⎥  ⎢              \n",
       "⎢                     ⎜                 ⎢⎣        0         ⎦  ⎢              \n",
       "⎣                     ⎝                 ⎣                      ⎣              \n",
       "\n",
       "    2               8         ⎤⎤⎞  ⎛    √5⋅β   β     ⎡⎡       -4         ⎤  ⎡ \n",
       " ─────── + ───────────────────⎥⎥⎟, ⎜α - ──── - ─, 2, ⎢⎢──────────────────⎥, ⎢-\n",
       " -√5 + 1                     2⎥⎥⎟  ⎜     2     2     ⎢⎢(-1 + √5)⋅(1 + √5)⎥  ⎢ \n",
       "           (1 + √5)⋅(-√5 + 1) ⎥⎥⎟  ⎜                 ⎢⎢                  ⎥  ⎢ \n",
       "                              ⎥⎥⎟  ⎜                 ⎢⎢        2         ⎥  ⎢ \n",
       "            4                 ⎥⎥⎟  ⎜                 ⎢⎢     ───────      ⎥  ⎢ \n",
       "─ - ──────────────────        ⎥⎥⎟  ⎜                 ⎢⎢     -1 + √5      ⎥  ⎢ \n",
       "1   (1 + √5)⋅(-√5 + 1)        ⎥⎥⎟  ⎜                 ⎢⎢                  ⎥  ⎢ \n",
       "                              ⎥⎥⎟  ⎜                 ⎢⎢       -2         ⎥  ⎢ \n",
       "       4                      ⎥⎥⎟  ⎜                 ⎢⎢     ───────      ⎥  ⎢ \n",
       "─────────────────             ⎥⎥⎟  ⎜                 ⎢⎢     -1 + √5      ⎥  ⎢ \n",
       "1 + √5)⋅(-√5 + 1)             ⎥⎥⎟  ⎜                 ⎢⎢                  ⎥  ⎢ \n",
       "                              ⎥⎥⎟  ⎜                 ⎢⎢        1         ⎥  ⎢ \n",
       "       0                      ⎥⎥⎟  ⎜                 ⎢⎢                  ⎥  ⎢ \n",
       "                              ⎥⎥⎟  ⎜                 ⎢⎣        0         ⎦  ⎢ \n",
       "       1                      ⎦⎦⎠  ⎝                 ⎣                      ⎣ \n",
       "\n",
       "   2               8                4    ⎤⎤⎞⎤\n",
       " ────── - ─────────────────── - ─────────⎥⎥⎟⎥\n",
       " 1 + √5                     2           2⎥⎥⎟⎥\n",
       "          (-1 + √5)⋅(1 + √5)    (1 + √5) ⎥⎥⎟⎥\n",
       "                                         ⎥⎥⎟⎥\n",
       "        2              4                 ⎥⎥⎟⎥\n",
       "      ────── + ──────────────────        ⎥⎥⎟⎥\n",
       "      1 + √5   (-1 + √5)⋅(1 + √5)        ⎥⎥⎟⎥\n",
       "                                         ⎥⎥⎟⎥\n",
       "                  -4                     ⎥⎥⎟⎥\n",
       "           ──────────────────            ⎥⎥⎟⎥\n",
       "           (-1 + √5)⋅(1 + √5)            ⎥⎥⎟⎥\n",
       "                                         ⎥⎥⎟⎥\n",
       "                   0                     ⎥⎥⎟⎥\n",
       "                                         ⎥⎥⎟⎥\n",
       "                   1                     ⎦⎦⎠⎦"
      ]
     },
     "execution_count": 21,
     "metadata": {},
     "output_type": "execute_result"
    }
   ],
   "source": [
    "M.eigenvects()"
   ]
  },
  {
   "cell_type": "markdown",
   "metadata": {},
   "source": [
    "$E_1 = \\alpha + 2\\beta$, $E_2 = \\alpha -\\frac{\\beta}{2}+ \\frac{\\sqrt{5}\\beta}{2} \\approx \\alpha + 0.618\\beta$, $E_3 = \\alpha -\\frac{\\beta}{2}- \\frac{\\sqrt{5}\\beta}{2} \\approx \\alpha - 1.618\\beta$"
   ]
  },
  {
   "cell_type": "markdown",
   "metadata": {},
   "source": [
    "![](imgs/HW9-2.jpg)"
   ]
  },
  {
   "cell_type": "markdown",
   "metadata": {},
   "source": [
    "### 8. Use back-substitution to determine the coefficients for each molecular orbital."
   ]
  },
  {
   "cell_type": "markdown",
   "metadata": {},
   "source": [
    "The 5 eigenvectors are the 5 sets of coefficients. Use python to normalize the coefficients to make $c_1^2 + c_2^2 + c_3^2 + c_4^2 + c_5^2 = 1$."
   ]
  },
  {
   "cell_type": "code",
   "execution_count": 22,
   "metadata": {
    "collapsed": false
   },
   "outputs": [
    {
     "name": "stdout",
     "output_type": "stream",
     "text": [
      "[0.44721359549995793, 0.44721359549995793, 0.44721359549995793, 0.44721359549995793, 0.44721359549995793] [-0.60150095500754575, -0.37174803446018456, 0.37174803446018456, 0.60150095500754575, 0.0] [0.37174803446018456, -0.37174803446018456, -0.60150095500754575, 0.0, 0.60150095500754575] [-0.37174803446018445, 0.60150095500754563, -0.60150095500754563, 0.37174803446018445, 0.0] [-0.60150095500754563, 0.60150095500754563, -0.37174803446018445, 0.0, 0.37174803446018445]\n"
     ]
    }
   ],
   "source": [
    "import numpy as np\n",
    "\"eigenvectors\" # the munbers in eigenvectors are already simplified using \"simplify\" in sympy\n",
    "c1 = [1,1,1,1,1] \n",
    "c2 = [-1,-np.sqrt(5)/2 + 1/2,-1/2 + np.sqrt(5)/2,1,0] \n",
    "c3 = [-1/2 + np.sqrt(5)/2,-np.sqrt(5)/2 + 1/2,-1,0,1] \n",
    "c4 = [-1,1/2 + np.sqrt(5)/2,-np.sqrt(5)/2 - 1/2,1,0] \n",
    "c5 = [-np.sqrt(5)/2 - 1/2,1/2 + np.sqrt(5)/2,-1,0,1]\n",
    "\"normalize the coefficients\"\n",
    "s1 = s2 = s4 = 0 # s3 = s2, s5 = s4\n",
    "n1,n2,n3,n4,n5 = [],[],[],[],[] # normalized eigenvectors\n",
    "for i in c1:\n",
    "    s1 = s1 + i**2\n",
    "for i in c2:\n",
    "    s2 = s2 + i**2\n",
    "for i in c4:\n",
    "    s4 = s4 + i**2\n",
    "for i in c1:\n",
    "    n1.append(i/np.sqrt(s1))\n",
    "for i in c2:\n",
    "    n2.append(i/np.sqrt(s2))\n",
    "for i in c3:\n",
    "    n3.append(i/np.sqrt(s2)) #  s3 = s2\n",
    "for i in c4:\n",
    "    n4.append(i/np.sqrt(s4))\n",
    "for i in c5:\n",
    "    n5.append(i/np.sqrt(s4)) # s5 = s4\n",
    "print(n1,n2,n3,n4,n5)"
   ]
  },
  {
   "cell_type": "markdown",
   "metadata": {},
   "source": [
    "$\\psi_1 = 0.4472\\phi_1 + 0.4472\\phi_2 + 0.4472\\phi_3 + 0.4472\\phi_4 +0.4472\\phi_5$"
   ]
  },
  {
   "cell_type": "markdown",
   "metadata": {},
   "source": [
    "$\\psi_2 = -0.6015\\phi_1 -0.3717\\phi_2 + 0.3717\\phi_3 + 0.6015\\phi_4$"
   ]
  },
  {
   "cell_type": "markdown",
   "metadata": {},
   "source": [
    "$\\psi_3 = 0.3717\\phi_1 -0.3717\\phi_2 -0.6015\\phi_3 + 0.6015\\phi_5$"
   ]
  },
  {
   "cell_type": "markdown",
   "metadata": {},
   "source": [
    "$\\psi_4 = -0.3717\\phi_1 + 0.6015\\phi_2 -0.6015\\phi_3 + 0.3717\\phi_4$"
   ]
  },
  {
   "cell_type": "markdown",
   "metadata": {},
   "source": [
    "$\\psi_5 = -0.6015\\phi_1 + 0.6015\\phi_2 -0.3717\\phi_3 + 0.3717\\phi_5$"
   ]
  },
  {
   "cell_type": "markdown",
   "metadata": {},
   "source": [
    "### 9. Predict the spin-multiplicities of C$_5$H$_5^+$, C$_5$H$_5$, and C$_5$H$_5^-$.  In which one do you expect all the C-C distances to be the same?"
   ]
  },
  {
   "cell_type": "markdown",
   "metadata": {},
   "source": [
    "According to the energy level diagram for the π system, C$_5$H$_5^+$ has 4 $\\pi$ electrons, 2 unpaired electrons, the spin-multiplicity is 3; C$_5$H$_5$ has 5 $\\pi$ electrons, 1 unpaired electrons, the spin-multiplicity is 2; C$_5$H$_5^-$ has 6 $\\pi$ electrons, 0 unpaired electrons, the spin-multiplicity is 1. C$_5$H$_5^-$ follows the Hückel's rule (has 4n + 2 $\\pi$ electrons), so it has aromatic properties and all the C-C distances will be the same."
   ]
  },
  {
   "cell_type": "markdown",
   "metadata": {
    "collapsed": true
   },
   "source": [
    "## Computational chemistry. \n",
    "### Today properties of a molecule are more often than not calculated rather than inferred. Quantitative molecular quantum mechanical calculations require highly specialized numerical solvers like Gaussian (<https://www.gaussian.com>). Following are instructions for using Gaussian with the Webmo graphical interface (<https://www.webmo.net/demoserver/cgi-bin/webmo/login.cgi>)."
   ]
  },
  {
   "cell_type": "markdown",
   "metadata": {},
   "source": [
    "### Now, let’s set up your calculation (you may do this with a partner if you choose):\n",
    "1. Log into the Webmo server https://www.webmo.net/demoserver/cgi-bin/webmo/login.cgi using \"guest\" as your username and password.\n",
    "2. Select New Job-Creat New Job.\n",
    "3. Use the available tools to sketch a molecule.\n",
    "4. Use the right arrow at the bottom to proceed to the Computational Engines.\n",
    "5. Select the “B3LYP” functional and the appropriate basis set.\n",
    "6. Select the right arrow to run the calculation.\n",
    "7. From the job manager window choose the completed calculation to view the results."
   ]
  },
  {
   "cell_type": "markdown",
   "metadata": {},
   "source": [
    "The molecule you are to study depends on your last name. Choose according to the list:\n",
    "+ A-G: **CO**\n",
    "+ H-R: **BN**\n",
    "+ S-Z: **BeO**"
   ]
  },
  {
   "cell_type": "markdown",
   "metadata": {},
   "source": [
    "For your convenience, here are the total energies (in Hartree, 27.212 eV/Hartree) of the constituent atoms, calculated using the B3LYP DFT treatment of $v_{ee}$ and the “Routine” basis set:"
   ]
  },
  {
   "cell_type": "markdown",
   "metadata": {},
   "source": [
    "|Atom|Energy|Atom|Energy|\n",
    "|-|-|-|-|\n",
    "|B|–24.65435|N|–54.559498|\n",
    "|Be|–14.65446|O|–75.031179|\n",
    "|C|–37.68086|F|–99.681600|"
   ]
  },
  {
   "cell_type": "markdown",
   "metadata": {},
   "source": [
    "### 10. Construct a potential energy surface for your molecule. Using covalent radii, guess an approximate equilbrium bond length, and use the Webmo editor to draw the molecule with that length. Specify the “Molecular Energy” option to Gaussian and the “Routine” basis set for better accuracy. Calculate and plot out total molecular energy vs. bond distance in increments of 0.05 Å about your guessed minimum, including enough points to encompass the actual minimum. (You will find it convenient to subtract off the individual atom energies from the molecular total energy and to convert to more convenient units, like eV or kJ/mol.) By fitting the few points nearest the minimum, determine the equilibrium bond length. How does your result compare to literature?"
   ]
  },
  {
   "cell_type": "markdown",
   "metadata": {},
   "source": [
    "Literature Bond length CO 1.128 Å, BN 1.325 Å, BeO 1.331 Å."
   ]
  },
  {
   "cell_type": "markdown",
   "metadata": {},
   "source": [
    "### CO molecule"
   ]
  },
  {
   "cell_type": "code",
   "execution_count": 1,
   "metadata": {
    "collapsed": false
   },
   "outputs": [
    {
     "name": "stdout",
     "output_type": "stream",
     "text": [
      "[  71.30418671 -164.11063691   78.12636826]\n"
     ]
    }
   ],
   "source": [
    "\"CO molecule\"\n",
    "import numpy as np\n",
    "import matplotlib.pyplot as plt\n",
    "\n",
    "\"quadratic fit\"\n",
    "E_C = -37.68086 # Ha\n",
    "E_O = -75.031179 # Ha\n",
    "R_CO = [1.00, 1.05, 1.10, 1.15, 1.2, 1.25] # distance, angstrom\n",
    "E_total_CO = [-113.249199,-113.287858,-113.305895,-113.309135,-113.301902,-113.287408] # Ha, total energy of the molecule\n",
    "E_CO = [] # eV, subtract off the individual atom energies from the molecular total energy and convert to eV\n",
    "for i in E_total_CO:\n",
    "    E_CO.append((i-E_C-E_O)*27.212)\n",
    "fit = np.polyfit(R_CO, E_CO, 2) # quadratic fit\n",
    "print(fit)"
   ]
  },
  {
   "cell_type": "code",
   "execution_count": 2,
   "metadata": {
    "collapsed": false
   },
   "outputs": [
    {
     "name": "stdout",
     "output_type": "stream",
     "text": [
      "The energy minimum is -16.30090 eV.\n"
     ]
    },
    {
     "data": {
      "image/png": "[encoded data removed]",
      "text/plain": [
       "<matplotlib.figure.Figure at 0x1df3f8306a0>"
      ]
     },
     "metadata": {},
     "output_type": "display_data"
    },
    {
     "name": "stdout",
     "output_type": "stream",
     "text": [
      "The equilibrium bond length is 1.1508 angstroms.\n"
     ]
    }
   ],
   "source": [
    "\"plot energy vs. bond length\"\n",
    "x = np.linspace(0.9, 1.4, 100)\n",
    "z = 71.30418671*x**2 - 164.1106369*x + 78.12636826 # quadratic fit\n",
    "E_min_CO = min(z) # minimum energy\n",
    "print('The energy minimum is {:.5f} eV.'.format(E_min_CO)) \n",
    "plt.plot(R_CO, E_CO, '.', label='Data points')\n",
    "plt.plot(x, z, '--',label='Quadratic Fit')\n",
    "plt.xlabel('Bond length (Angstrom)')\n",
    "plt.ylabel('Energy (eV)')\n",
    "plt.title('CO Molecular Energy vs. Bond Distance')\n",
    "plt.legend()\n",
    "plt.show()\n",
    "\n",
    "\"find equilbrium bond length\"\n",
    "import sympy as sp\n",
    "x = sp.symbols('x')\n",
    "z = 71.30418671*x**2 - 164.1106369*x + 78.12636826 # quadratic fit\n",
    "l = sp.solve(sp.diff(z,x),x)\n",
    "print('The equilibrium bond length is {:.4f} angstroms.'.format(l[0])) # equilibrium bond length"
   ]
  },
  {
   "cell_type": "markdown",
   "metadata": {},
   "source": [
    "### BN molecule"
   ]
  },
  {
   "cell_type": "code",
   "execution_count": 3,
   "metadata": {
    "collapsed": false
   },
   "outputs": [
    {
     "name": "stdout",
     "output_type": "stream",
     "text": [
      "[ 36.03840657 -92.53300264  54.76376165]\n"
     ]
    }
   ],
   "source": [
    "\"BN molecule\"\n",
    "import numpy as np\n",
    "import matplotlib.pyplot as plt\n",
    "\n",
    "\"quadratic fit\"\n",
    "E_B = -24.65435 # Ha\n",
    "E_N = -54.559498 # Ha\n",
    "R_BN = [1.15, 1.2, 1.25, 1.3, 1.35, 1.4] # distance, angstrom\n",
    "E_total_BN = [-79.359357,-79.376368,-79.383355,-79.382896,-79.377003,-79.367236] # Ha, total energy of the molecule\n",
    "E_BN = [] # eV, subtract off the individual atom energies from the molecular total energy and convert to eV\n",
    "for i in E_total_BN:\n",
    "    E_BN.append((i-E_B-E_N)*27.212)\n",
    "fit = np.polyfit(R_BN, E_BN, 2) # quadratic fit\n",
    "print(fit)"
   ]
  },
  {
   "cell_type": "code",
   "execution_count": 4,
   "metadata": {
    "collapsed": false
   },
   "outputs": [
    {
     "name": "stdout",
     "output_type": "stream",
     "text": [
      "The energy minimum is -4.63365 eV.\n"
     ]
    },
    {
     "data": {
      "image/png": "[encoded data removed]",
      "text/plain": [
       "<matplotlib.figure.Figure at 0x1df40c21400>"
      ]
     },
     "metadata": {},
     "output_type": "display_data"
    },
    {
     "name": "stdout",
     "output_type": "stream",
     "text": [
      "The equilibrium bond length is 1.2838 angstroms.\n"
     ]
    }
   ],
   "source": [
    "\"plot energy vs. bond length\"\n",
    "x = np.linspace(1.0, 1.5, 100)\n",
    "z = 36.03840657*x**2 - 92.53300264*x + 54.76376165 # quadratic fit\n",
    "E_min_BN = min(z) # minimum energy\n",
    "print('The energy minimum is {:.5f} eV.'.format(E_min_BN)) \n",
    "plt.plot(R_BN, E_BN, '.', label='Data points')\n",
    "plt.plot(x, z, '--',label='Quadratic Fit')\n",
    "plt.xlabel('Bond length (Angstrom)')\n",
    "plt.ylabel('Energy (eV)')\n",
    "plt.title('BN Molecular Energy vs. Bond Distance')\n",
    "plt.legend()\n",
    "plt.show()\n",
    "\n",
    "\"find equilbrium bond length\"\n",
    "import sympy as sp\n",
    "x = sp.symbols('x')\n",
    "z = 36.03840657*x**2 - 92.53300264*x + 54.76376165 # quadratic fit\n",
    "l = sp.solve(sp.diff(z,x),x)\n",
    "print('The equilibrium bond length is {:.4f} angstroms.'.format(l[0])) # equilibrium bond length"
   ]
  },
  {
   "cell_type": "markdown",
   "metadata": {},
   "source": [
    "### BeO molecule"
   ]
  },
  {
   "cell_type": "code",
   "execution_count": 5,
   "metadata": {
    "collapsed": false
   },
   "outputs": [
    {
     "name": "stdout",
     "output_type": "stream",
     "text": [
      "[ 26.92063723 -72.13881957  42.4763745 ]\n"
     ]
    }
   ],
   "source": [
    "\"BeO molecule\"\n",
    "import numpy as np\n",
    "import matplotlib.pyplot as plt\n",
    "\n",
    "\"quadratic fit\"\n",
    "E_Be = -14.65446 # Ha\n",
    "E_O = -75.031179 # Ha\n",
    "R_BeO = [1.2, 1.25, 1.3, 1.35, 1.4, 1.45] # distance, angstrom\n",
    "E_total_BeO = [-89.880569,-89.893740,-89.899599,-89.899934,-89.896149,-89.889335] # Ha, total energy of the molecule\n",
    "E_BeO = [] # eV, subtract off the individual atom energies from the molecular total energy and convert to eV\n",
    "for i in E_total_BeO:\n",
    "    E_BeO.append((i-E_Be-E_O)*27.212)\n",
    "fit = np.polyfit(R_BeO, E_BeO, 2) # quadratic fit\n",
    "print(fit)"
   ]
  },
  {
   "cell_type": "code",
   "execution_count": 6,
   "metadata": {
    "collapsed": false
   },
   "outputs": [
    {
     "name": "stdout",
     "output_type": "stream",
     "text": [
      "The energy minimum is -5.85078 eV.\n"
     ]
    },
    {
     "data": {
      "image/png": "[encoded data removed]",
      "text/plain": [
       "<matplotlib.figure.Figure at 0x1df3fa52940>"
      ]
     },
     "metadata": {},
     "output_type": "display_data"
    },
    {
     "name": "stdout",
     "output_type": "stream",
     "text": [
      "The equilibrium bond length is 1.3398 angstroms.\n"
     ]
    }
   ],
   "source": [
    "\"plot energy vs. bond length\"\n",
    "x = np.linspace(1.1, 1.6, 100)\n",
    "z = 26.92063723*x**2 - 72.13881957*x + 42.4763745 # quadratic fit\n",
    "E_min_BeO = min(z) # minimum energy\n",
    "print('The energy minimum is {:.5f} eV.'.format(E_min_BeO)) \n",
    "plt.plot(R_BeO, E_BeO, '.', label='Data points')\n",
    "plt.plot(x, z, '--',label='Quadratic Fit')\n",
    "plt.xlabel('Bond length (Angstrom)')\n",
    "plt.ylabel('Energy (eV)')\n",
    "plt.title('BeO Molecular Energy vs. Bond Distance')\n",
    "plt.legend()\n",
    "plt.show()\n",
    "\n",
    "\"find equilbrium bond length\"\n",
    "import sympy as sp\n",
    "x = sp.symbols('x')\n",
    "z = 26.92063723*x**2 - 72.13881957*x + 42.4763745 # quadratic fit\n",
    "l = sp.solve(sp.diff(z,x),x)\n",
    "print('The equilibrium bond length is {:.4f} angstroms.'.format(l[0])) # equilibrium bond length"
   ]
  },
  {
   "cell_type": "markdown",
   "metadata": {},
   "source": [
    "### 11. Use the quadratic fit from Question 10 to determine the harmonic vibrational frequency of your molecule, in cm$^{-1}$. Recall that the force constant is the second derivative of the energy at the minimum, and that the frequency (in wavenumbers) is related to the force constant according to $$\\tilde{\\nu} = \\frac{1}{2\\pi c}\\sqrt{\\frac{k}{\\mu}}$$"
   ]
  },
  {
   "cell_type": "markdown",
   "metadata": {},
   "source": [
    "### CO molecule"
   ]
  },
  {
   "cell_type": "code",
   "execution_count": 7,
   "metadata": {
    "collapsed": false
   },
   "outputs": [
    {
     "name": "stdout",
     "output_type": "stream",
     "text": [
      "The harmonic vibrational frequency is 2377.57 cm^-1.\n"
     ]
    }
   ],
   "source": [
    "\"calculate harmonic vibrational frequency\"\n",
    "J = 1.6022e-19 # 1 eV = 1.6022e-19 J\n",
    "A = 1e-10 # 1 angstrom = 1e-10 m\n",
    "c = 2.99792e8 # m/s\n",
    "m_C = 12.0107\n",
    "m_O = 15.9994\n",
    "mu_CO = m_C*m_O/(m_C+m_O)*1.6605e-27 # kg, reduced mass\n",
    "k_CO = 2*71.30418671*J/A**2 # J/m**2\n",
    "nu_CO = 1/(2*np.pi*c)*np.sqrt(k_CO/mu_CO)/100 # cm^-1, wavenumber\n",
    "print('The harmonic vibrational frequency is {:.2f} cm^-1.'.format(nu_CO))"
   ]
  },
  {
   "cell_type": "markdown",
   "metadata": {},
   "source": [
    "### BN molecule"
   ]
  },
  {
   "cell_type": "code",
   "execution_count": 8,
   "metadata": {
    "collapsed": false
   },
   "outputs": [
    {
     "name": "stdout",
     "output_type": "stream",
     "text": [
      "The harmonic vibrational frequency is 1792.32 cm^-1.\n"
     ]
    }
   ],
   "source": [
    "\"calculate harmonic vibrational frequency\"\n",
    "J = 1.6022e-19 # 1 eV = 1.6022e-19 J\n",
    "A = 1e-10 # 1 angstrom = 1e-10 m\n",
    "c = 2.99792e8 # m/s\n",
    "m_B = 10.811\n",
    "m_N = 14.0067\n",
    "mu_BN = m_B*m_N/(m_B+m_N)*1.6605e-27 # kg, reduced mass\n",
    "k_BN = 2*36.0384*J/A**2 # J/m**2\n",
    "nu_BN = 1/(2*np.pi*c)*np.sqrt(k_BN/mu_BN)/100 # cm^-1, wavenumber\n",
    "print('The harmonic vibrational frequency is {:.2f} cm^-1.'.format(nu_BN))"
   ]
  },
  {
   "cell_type": "markdown",
   "metadata": {},
   "source": [
    "### BeO molecule"
   ]
  },
  {
   "cell_type": "code",
   "execution_count": 9,
   "metadata": {
    "collapsed": false
   },
   "outputs": [
    {
     "name": "stdout",
     "output_type": "stream",
     "text": [
      "The harmonic vibrational frequency is 1593.68 cm^-1.\n"
     ]
    }
   ],
   "source": [
    "\"calculate harmonic vibrational frequency\"\n",
    "J = 1.6022e-19 # 1 eV = 1.6022e-19 J\n",
    "A = 1e-10 # 1 angstrom = 1e-10 m\n",
    "c = 2.99792e8 # m/s\n",
    "m_Be = 9.01218\n",
    "m_O = 15.9994\n",
    "mu_BeO = m_Be*m_O/(m_Be+m_O)*1.6605e-27 # kg, reduced mass\n",
    "k_BeO = 2*26.92063723*J/A**2 # J/m**2\n",
    "nu_BeO = 1/(2*np.pi*c)*np.sqrt(k_BeO/mu_BeO)/100 # cm^-1, wavenumber\n",
    "print('The harmonic vibrational frequency is {:.2f} cm^-1.'.format(nu_BeO))"
   ]
  },
  {
   "cell_type": "markdown",
   "metadata": {},
   "source": [
    "### 12. Use your results to determine the zero-point-corrected bond energy of your molecule. How does this model compare with the experimental value?"
   ]
  },
  {
   "cell_type": "markdown",
   "metadata": {},
   "source": [
    "Experimental value: CO 1072 kJ/mol, BN 385 kJ/mol, BeO 445 kJ/mol."
   ]
  },
  {
   "cell_type": "markdown",
   "metadata": {},
   "source": [
    "### CO molecule"
   ]
  },
  {
   "cell_type": "code",
   "execution_count": 10,
   "metadata": {
    "collapsed": false
   },
   "outputs": [
    {
     "name": "stdout",
     "output_type": "stream",
     "text": [
      "The zero-point-corrected bond energy is 1558.5998 kJ/mol.\n"
     ]
    }
   ],
   "source": [
    "\"determine the zero-point-corrected bond energy\"\n",
    "h = 6.62607e-34 # J*s\n",
    "NA = 6.02214e23\n",
    "E0_CO = 0.5*h*nu_CO*100*c # J, zero point energy for harmonic oscillator\n",
    "E_Bond_CO = (E_min_CO*J + E0_CO)*NA/1000 # kJ/mol, zero-point-corrected bond energy\n",
    "print('The zero-point-corrected bond energy is {:.4f} kJ/mol.'.format(-E_Bond_CO))"
   ]
  },
  {
   "cell_type": "markdown",
   "metadata": {},
   "source": [
    "### BN molecule"
   ]
  },
  {
   "cell_type": "code",
   "execution_count": 11,
   "metadata": {
    "collapsed": false
   },
   "outputs": [
    {
     "name": "stdout",
     "output_type": "stream",
     "text": [
      "The zero-point-corrected bond energy is 436.3648 kJ/mol.\n"
     ]
    }
   ],
   "source": [
    "\"determine the zero-point-corrected bond energy\"\n",
    "h = 6.62607e-34 # J*s\n",
    "NA = 6.02214e23\n",
    "E0_BN = 0.5*h*nu_BN*100*c # J, zero point energy for harmonic oscillator\n",
    "E_Bond_BN = (E_min_BN*J + E0_BN)*NA/1000 # kJ/mol, zero-point-corrected bond energy\n",
    "print('The zero-point-corrected bond energy is {:.4f} kJ/mol.'.format(-E_Bond_BN))"
   ]
  },
  {
   "cell_type": "markdown",
   "metadata": {},
   "source": [
    "### BeO molecule"
   ]
  },
  {
   "cell_type": "code",
   "execution_count": 12,
   "metadata": {
    "collapsed": false
   },
   "outputs": [
    {
     "name": "stdout",
     "output_type": "stream",
     "text": [
      "The zero-point-corrected bond energy is 554.9907 kJ/mol.\n"
     ]
    }
   ],
   "source": [
    "\"determine the zero-point-corrected bond energy\"\n",
    "h = 6.62607e-34 # J*s\n",
    "NA = 6.02214e23\n",
    "E0_BeO = 0.5*h*nu_BeO*100*c # J, zero point energy for harmonic oscillator\n",
    "E_Bond_BeO = (E_min_BeO*J + E0_BeO)*NA/1000 # kJ/mol, zero-point-corrected bond energy\n",
    "print('The zero-point-corrected bond energy is {:.4f} kJ/mol.'.format(-E_Bond_BeO))"
   ]
  }
 ],
 "metadata": {
  "anaconda-cloud": {},
  "kernelspec": {
   "display_name": "Python 3",
   "language": "python",
   "name": "python3"
  },
  "language_info": {
   "codemirror_mode": {
    "name": "ipython",
    "version": 3
   },
   "file_extension": ".py",
   "mimetype": "text/x-python",
   "name": "python",
   "nbconvert_exporter": "python",
   "pygments_lexer": "ipython3",
   "version": "3.6.0"
  }
 },
 "nbformat": 4,
 "nbformat_minor": 1
}
