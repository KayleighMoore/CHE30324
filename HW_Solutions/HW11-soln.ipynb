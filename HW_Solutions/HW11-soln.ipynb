{
 "cells": [
  {
   "cell_type": "markdown",
   "metadata": {},
   "source": [
    "# Chem 30324, Spring 2018, Homework 11\n"
   ]
  },
  {
   "cell_type": "markdown",
   "metadata": {},
   "source": [
    "# Due May 4 2018"
   ]
  },
  {
   "cell_type": "markdown",
   "metadata": {},
   "source": [
    "## Equilibrium constants from first principles.\n",
    "### In 1996, Schneider and co-workers used quantum chemistry to compute the reaction pathway for unimolecular decomposition of trifluoromethanol, a reaction of relevance to the atmospheric degradation of hydrofluorocarbon refrigerants (*J. Phys. Chem.* **1996**, *100*, 6097- 6103, [doi:10.1021/jp952703m](https://pubs.acs.org/doi/abs/10.1021/jp952703m)): $$\\mathrm{CF_3OH\\rightarrow COF_2 + HF}$$\n",
    "### Following are some of the reported results, computed at 298 K:"
   ]
  },
  {
   "cell_type": "markdown",
   "metadata": {},
   "source": [
    "![](imgs/HW11.png)"
   ]
  },
  {
   "cell_type": "markdown",
   "metadata": {},
   "source": [
    "### 1. Estimate $\\Delta S^{\\circ}$(298 K), in J mol$^{-1}$ K $^{-1}$ , assuming a 1 bar standard state. (*Hint:* What degrees of freedom will dominate the entropy?)"
   ]
  },
  {
   "cell_type": "markdown",
   "metadata": {},
   "source": [
    "Translation degrees of freedom will dominate the entropy.\n",
    "\n",
    "$S_{trans} = Rln\\left(\\frac{e^{5/2}k_BT}{P^{\\circ}\\Lambda^3}\\right) = Rln\\left(\\frac{e^{5/2}k_BT}{P^{\\circ}}\\frac{q_{trans}}{V}\\right)$\n",
    "\n",
    "$\\Delta S^{\\circ} = S_{products} - S_{reactants}$."
   ]
  },
  {
   "cell_type": "code",
   "execution_count": 4,
   "metadata": {
    "collapsed": false
   },
   "outputs": [
    {
     "name": "stdout",
     "output_type": "stream",
     "text": [
      "delta S = 133.072 J/mol/K.\n"
     ]
    }
   ],
   "source": [
    "import numpy as np\n",
    "\n",
    "kB = 1.38065e-23 # J/K\n",
    "R = 8.31447 # J/(mol*K)\n",
    "\n",
    "q_trans = [7.72e32,1.59e32,8.65e31] # 1/m^3\n",
    "T = 298 # K\n",
    "def S(q):\n",
    "    return R*np.log(np.exp(2.5)*kB*T/100000*q)\n",
    "\n",
    "deltaS = S(q_trans[1]) + S(q_trans[2]) -S(q_trans[0])\n",
    "print('delta S = {:.3f} J/mol/K.'.format(deltaS))"
   ]
  },
  {
   "cell_type": "markdown",
   "metadata": {},
   "source": [
    "### 2. Using the data provided, determine $\\Delta U^{\\circ}$(298 K) and $\\Delta H^{\\circ}$(298 K), in kJ mol$^{-1}$."
   ]
  },
  {
   "cell_type": "markdown",
   "metadata": {},
   "source": [
    "$\\Delta U^{\\circ} = U_{products} - U_{reactants}$\n",
    "\n",
    "$U = U_{trans} + U_{rot} + U_{vib} + E_{elec} + ZPE$\n",
    "\n",
    "$\\Delta U^{\\circ} = 18.643 kJ/mol$\n",
    "\n",
    "$\\Delta H^{\\circ} = \\Delta U^{\\circ} + P\\Delta V$\n",
    "\n",
    "$\\Delta V = \\frac{2RT}{P}-\\frac{RT}{P} = \\frac{RT}{P}$\n",
    "\n",
    "$\\Delta H^{\\circ} = 18.643 + P\\frac{RT}{P} = 21.121 kJ/mol$"
   ]
  },
  {
   "cell_type": "markdown",
   "metadata": {},
   "source": [
    "### 3. Using the data provided, determine $K_c$ (298 K), assuming a 1 mole/liter standard state."
   ]
  },
  {
   "cell_type": "markdown",
   "metadata": {},
   "source": [
    "$\\mathrm{A} \\rightarrow \\mathrm{B + C}$\n",
    "\n",
    "$K_c(T) = \\frac{\\frac{q_{\\mathrm{B}}}{Vc^{\\circ}}\\frac{q_{\\mathrm{C}}}{Vc^{\\circ}}}{\\frac{q_{\\mathrm{A}}}{Vc^{\\circ}}}\\mathrm{e}^{-\\Delta{E(0)}/kT}$, $c^{\\circ}$ = 1 mol/L = NA/0.001 1/$m^3$. NA is the Avogadro’s number. $K_c(T)$ is unitless."
   ]
  },
  {
   "cell_type": "code",
   "execution_count": 13,
   "metadata": {
    "collapsed": false
   },
   "outputs": [
    {
     "name": "stdout",
     "output_type": "stream",
     "text": [
      "Kc = 2.926.\n"
     ]
    }
   ],
   "source": [
    "Eelec = [-412.90047,-312.57028,-100.31885] # Ha\n",
    "ZPE = [0.02889,0.01422,0.00925] # Ha\n",
    "deltaE0 = (Eelec[1] + ZPE[1] + Eelec[2] + ZPE[2] - (Eelec[0] + ZPE[0]))*4.3598e-18 # J\n",
    "\n",
    "q_trans = [7.72e32,1.59e32,8.65e31] # 1/m^3\n",
    "q_rot = [61830,679,9.59] # unitless\n",
    "q_vib = [2.33,1.16,1] # unitless             \n",
    "\n",
    "q= [0,0,0] # q_total for A, B, C\n",
    "for i in (0,1,2):\n",
    "    q[i] = q_trans[i]*q_rot[i]*q_vib[i]\n",
    "\n",
    "NA = 6.022e23\n",
    "C0 = NA/0.001 # standrad state: mole/liter\n",
    "\n",
    "Kc = q[1]*q[2]/q[0]*(1/C0)*np.exp(-deltaE0/kB/T)\n",
    "print('Kc = {:.3f}.'.format(Kc))"
   ]
  },
  {
   "cell_type": "markdown",
   "metadata": {},
   "source": [
    "### 4. 1 mole of CF$_3$OH is generated in a 20 L vessel at 298 K and left long enough to come to equilibrium with respect to its decomposition reaction. What is the composition of the gas (concentrations of all the components) at equilibrium (in mol/L)?"
   ]
  },
  {
   "cell_type": "markdown",
   "metadata": {},
   "source": [
    "1 mol/ 20 L = 0.05 mol/L\n",
    "\n",
    "$\\mathrm{A} \\rightarrow \\mathrm{B + C}$\n",
    "\n",
    "|Reaction|A (mol/L)|B (mol/L)|C (mol/L)|\n",
    "|-|-|-|-|\n",
    "|I|0.05|0|0|\n",
    "|C|-x|x|x|\n",
    "|E|0.05-x|x|x|\n",
    "\n",
    "$K_c = \\frac{x^2}{0.05-x}$, solve for x."
   ]
  },
  {
   "cell_type": "code",
   "execution_count": 8,
   "metadata": {
    "collapsed": false
   },
   "outputs": [
    {
     "name": "stdout",
     "output_type": "stream",
     "text": [
      "At equilibrium, CF3OH = 8.26E-4 mol/L, COF2 = 0.0492 mol/L, HF = 0.0492 mol/L.\n"
     ]
    }
   ],
   "source": [
    "from sympy import * \n",
    "x = symbols('x',positive=True)\n",
    "c = solve(x**2-(0.05-x)*Kc,x)\n",
    "print('At equilibrium, CF3OH = {0:.2E} mol/L, COF2 = {1:.4f} mol/L, HF = {2:.4f} mol/L.'.format(0.05-c[0],c[0],c[0]))"
   ]
  },
  {
   "cell_type": "markdown",
   "metadata": {},
   "source": [
    "### 5. How, directionally, would your answer to Question 4 change if the vessel was at a higher temperature? Why, in statistical mechanical terms?"
   ]
  },
  {
   "cell_type": "markdown",
   "metadata": {},
   "source": [
    "The reaction is endothermic, so it will be driven towards the products as temperature is increased. From a stat mech perspective, as more energy is dumped into the system, higher energy states become more accessible, allowing an easier transition into products."
   ]
  },
  {
   "cell_type": "markdown",
   "metadata": {},
   "source": [
    "### 6. How, directionally, would your answer to Question 4 change if the vessel had a volume of 5 L? Why, in statistical mechanical terms?"
   ]
  },
  {
   "cell_type": "markdown",
   "metadata": {},
   "source": [
    "The equilibrium will be driven more to the reactant, but there will be no change to the equilibrium constant. The volume-dependence of the equilibrium is contained in the concentration ratio, not in the equilibrium constant itself.  From a stat mech perspective, the number of translational states available to a molecule is proportional to volume. Increasing volume increasingly favors the side of the reaction with more molecules, which can take greater advantage of the more available states. By corrolary, decreasing volume has the opposite effect."
   ]
  },
  {
   "cell_type": "markdown",
   "metadata": {},
   "source": [
    "## Chemical kinetics from first principles.\n",
    "### While chemical equilibrium describes what can happen, chemical kinetics determines what *will* happen. The same paper reports results for the transition state for the unimolecular decomposition reaction, also shown in the table above."
   ]
  },
  {
   "cell_type": "markdown",
   "metadata": {},
   "source": [
    "### 7. Provide a rough sketch of what you expect the transition state to look like."
   ]
  },
  {
   "cell_type": "markdown",
   "metadata": {},
   "source": [
    "<img src=\"imgs/HW11-1.jpg\" width=\"150\">\n",
    "\n",
    "Structure of $\\mathrm{[CF_3OH]^⧧}$ (*J. Phys. Chem.* **1996**, *100*, 6097- 6103). The third F is not showing."
   ]
  },
  {
   "cell_type": "markdown",
   "metadata": {},
   "source": [
    "### 8. Based on the data in the table, sketch out an approximate potential energy surface for the unimolecular decomposition reaction. Indicate on the PES the location of the reactants, the products, and the transition state. Also indicate relevant zero point energies, the 0 K reaction energy, and the activation energy."
   ]
  },
  {
   "cell_type": "markdown",
   "metadata": {},
   "source": [
    "<img src=\"imgs/HW11-2.jpg\" width=\"400\">"
   ]
  },
  {
   "cell_type": "markdown",
   "metadata": {
    "collapsed": true
   },
   "source": [
    "### 9. Using data from the table and harmonic transition state theory, compute the  first-order rate constant for CF$_3$OH decomposition at 298 K, in s$^{-1}$."
   ]
  },
  {
   "cell_type": "markdown",
   "metadata": {},
   "source": [
    "$k = \\frac{k_{\\mathrm{B}}T}{h}\\frac{q^⧧}{q_\\mathrm{A}}\\mathrm{e}^{-\\Delta{E^⧧(0)}/k_{\\mathrm{B}}T}$"
   ]
  },
  {
   "cell_type": "code",
   "execution_count": 26,
   "metadata": {
    "collapsed": false
   },
   "outputs": [
    {
     "name": "stdout",
     "output_type": "stream",
     "text": [
      "k=9.853E-19.\n"
     ]
    }
   ],
   "source": [
    "kB=8.61734e-5 # eV/K\n",
    "T1=298 # K\n",
    "h=4.136e-15 # eV*s\n",
    "q_TS= 7.72e32*68420*2.28 # 1/m^3\n",
    "q_A=7.72e32*61830*2.33 # 1/m^3\n",
    "delta_E= ((-412.82771+0.02313)-(-412.90047+0.02889))*27.212 # eV\n",
    "def k(T):\n",
    "    k=kB*T/h*q_TS/q_A*np.exp(-delta_E/kB/T)\n",
    "    return k\n",
    "print('k={:.3E}.'.format(k(T1)))"
   ]
  },
  {
   "cell_type": "markdown",
   "metadata": {},
   "source": [
    "### 10. Which factor in your rate constant dominates the temperature dependence? Estimate the change in temperature necessary to double the rate constant."
   ]
  },
  {
   "cell_type": "markdown",
   "metadata": {},
   "source": [
    "The dominating factor would be the temperature in the exponential denominator."
   ]
  },
  {
   "cell_type": "code",
   "execution_count": 36,
   "metadata": {
    "collapsed": false
   },
   "outputs": [
    {
     "name": "stdout",
     "output_type": "stream",
     "text": [
      "2 times k(298K) = 1.971E-18.\n"
     ]
    }
   ],
   "source": [
    "print('2 times k(298K) = {:.3E}.'.format(2*k(T1)))"
   ]
  },
  {
   "cell_type": "markdown",
   "metadata": {},
   "source": [
    "Plug in different temperatures to get the temperature at which the rate doubles."
   ]
  },
  {
   "cell_type": "code",
   "execution_count": 39,
   "metadata": {
    "collapsed": false
   },
   "outputs": [
    {
     "name": "stdout",
     "output_type": "stream",
     "text": [
      "k(300.9K) = 1.972E-18.\n"
     ]
    }
   ],
   "source": [
    "print('k(300.9K) = {:.3E}.'.format(k(300.9)))"
   ]
  },
  {
   "cell_type": "markdown",
   "metadata": {},
   "source": [
    "Temperature changing from 298 K to 301 K will make the rate constant double."
   ]
  },
  {
   "cell_type": "markdown",
   "metadata": {},
   "source": [
    "### 11. Based on your computed rate constant, what is the half-life of the CF$_3$OH in the vessel of Question 4?"
   ]
  },
  {
   "cell_type": "markdown",
   "metadata": {},
   "source": [
    "The half-life of a first-order reaction under a given set of reaction conditions is a constant.\n",
    "\n",
    "$t_{1/2} = \\frac{\\mathrm{ln}2}{k}$"
   ]
  },
  {
   "cell_type": "code",
   "execution_count": 44,
   "metadata": {
    "collapsed": false
   },
   "outputs": [
    {
     "name": "stdout",
     "output_type": "stream",
     "text": [
      "The half-life is 7.035E+17 s, which is about 2.231E+10 years.\n"
     ]
    }
   ],
   "source": [
    "t=np.log(2)/k(298) # s\n",
    "print('The half-life is {0:.3E} s, which is about {1:.3E} years.'.format(t,t/3600/24/365))"
   ]
  },
  {
   "cell_type": "markdown",
   "metadata": {},
   "source": [
    "### 12. Experiments reveal that the CF$_3$OH comes to equilibrium far faster than the unimolecular rate would suggest. Provide a possible explanation for this observation (other than that Schneider calculations are incorrect!)."
   ]
  },
  {
   "cell_type": "markdown",
   "metadata": {},
   "source": [
    "One proposed mechanism is the existence of H$_2$O lowers the activation energy of the decomposition of CF$_3$OH. The proposed reaction pathway is shown in *J. Phys. Chem.* **1996**, *100*, 6097- 6103.\n",
    "\n",
    "<img src=\"imgs/HW11-3.gif\" width=\"400\">"
   ]
  },
  {
   "cell_type": "code",
   "execution_count": null,
   "metadata": {
    "collapsed": true
   },
   "outputs": [],
   "source": []
  }
 ],
 "metadata": {
  "anaconda-cloud": {},
  "kernelspec": {
   "display_name": "Python 3",
   "language": "python",
   "name": "python3"
  },
  "language_info": {
   "codemirror_mode": {
    "name": "ipython",
    "version": 3
   },
   "file_extension": ".py",
   "mimetype": "text/x-python",
   "name": "python",
   "nbconvert_exporter": "python",
   "pygments_lexer": "ipython3",
   "version": "3.6.0"
  }
 },
 "nbformat": 4,
 "nbformat_minor": 1
}
