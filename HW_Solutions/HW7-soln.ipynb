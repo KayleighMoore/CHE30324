{
 "cells": [
  {
   "cell_type": "markdown",
   "metadata": {
    "collapsed": true
   },
   "source": [
    "# Chem 30324, Spring 2018, Homework 7\n",
    "\n",
    "Due March 26, 2018"
   ]
  },
  {
   "cell_type": "markdown",
   "metadata": {},
   "source": [
    "## NO Spectroscopy "
   ]
  },
  {
   "cell_type": "markdown",
   "metadata": {},
   "source": [
    "### The diatomic nitric oxide (NO) is an unusual and important molecule. It has an odd number of electrons, which is a rarity for stable molecule. It acts as a signaling molecule in the body, helping to regulate blood pressure, is a primary pollutant from combustion, and is a key constituent of smog. It exists in several isotopic forms, but the most common, $^{14}$N=$^{16}$O, has a bond length of 1.15077 Å and harmonic vibrational frequency of 1904 cm$^{-1}$."
   ]
  },
  {
   "cell_type": "markdown",
   "metadata": {},
   "source": [
    "### 1. Predict the *positions* of the four lowest energy lines in the pure rotational spectrum of ${}^{14}N= {}^{16}O$, cm$^{-1}$."
   ]
  },
  {
   "cell_type": "markdown",
   "metadata": {},
   "source": [
    "$\\Delta \\tilde{E_l} = 2B(l+1), l = 0, 1, 2, 3$"
   ]
  },
  {
   "cell_type": "code",
   "execution_count": 2,
   "metadata": {},
   "outputs": [
    {
     "name": "stdout",
     "output_type": "stream",
     "text": [
      "the positions of the four lowest energy lines in the pure rotational spectrum are\n",
      "3.4098 cm^-1\n",
      "6.8197 cm^-1\n",
      "10.2295 cm^-1\n",
      "13.6394 cm^-1\n"
     ]
    }
   ],
   "source": [
    "import numpy as np\n",
    "\n",
    "N_14 = 14.003 # amu\n",
    "O_16 = 15.995 # amu\n",
    "mu = N_14*O_16/(N_14+O_16) # amu, reduced mass\n",
    "r = 1.15077 # angstrom, bond length\n",
    "hbar = 1.05457e-34 # J*s\n",
    "c = 2.998e10 # cm/s\n",
    "NA = 6.02214e23\n",
    "\n",
    "I = mu*r**2 # amu*angstrom^2\n",
    "I_ = I*1.6605e-27*1e-20 # kg*m^2\n",
    "B = hbar**2/(2*I_) # J\n",
    "B_ = hbar/(4*np.pi*I_*c) # cm^-1\n",
    "deltaE_l = []\n",
    "print('the positions of the four lowest energy lines in the pure rotational spectrum are')\n",
    "for l in [0,1,2,3]:\n",
    "    deltaE_l.append(2*B_*(l+1))\n",
    "    print('{:.4f} cm^-1'.format(deltaE_l[l]))"
   ]
  },
  {
   "cell_type": "markdown",
   "metadata": {},
   "source": [
    "### 2. Predict the *relative intensities* of the first 4 lines in the pure rotational spectrum of gaseous ${}^{14}N= {}^{16}O$ at 298 K. Recall that the intensities depend on the difference in populations of the initial ($l$) and final ($l'$) states, according to $g(l)\\left (e^{-\\varepsilon(l)/k_BT} - e^{-\\varepsilon(l')/k_BT}\\right)$."
   ]
  },
  {
   "cell_type": "markdown",
   "metadata": {},
   "source": [
    "$I_{l\\rightarrow l+1} = g(l)\\left (e^{-\\varepsilon(l)/k_BT} - e^{-\\varepsilon(l+1)/k_BT}\\right)$"
   ]
  },
  {
   "cell_type": "code",
   "execution_count": 3,
   "metadata": {},
   "outputs": [
    {
     "name": "stdout",
     "output_type": "stream",
     "text": [
      "The relative intensities of the first 4 lines are \n",
      "0.0163\n",
      "0.0956\n",
      "0.2294\n",
      "0.4043\n"
     ]
    }
   ],
   "source": [
    "K = 1.38e-23 # J/K\n",
    "T = 298 # K\n",
    "E = []\n",
    "g = []\n",
    "for l in [0,1,2,3,4]:\n",
    "    E.append(B*l*(l+1)) # E(l)\n",
    "    g.append(2*l+1) # degeneracy\n",
    "print ('The relative intensities of the first 4 lines are ')\n",
    "I = []\n",
    "for l in [0,1,2,3]:\n",
    "    I.append(g[l]*(np.exp(-E[l]/K/T)-np.exp(-E[l+1]/K/T)))\n",
    "    print('{:.4f}'.format(I[l]))"
   ]
  },
  {
   "cell_type": "markdown",
   "metadata": {},
   "source": [
    "### 3. Do you expect NO to exhibit an infrared absorption vibrational spectrum? Why or why not? If so, what initial and final vibrational states contribute most significantly to the spectrum?"
   ]
  },
  {
   "cell_type": "markdown",
   "metadata": {},
   "source": [
    "Since it has a dipole we would expect a vibrational spectra. We would also expect the molecules to start in the ground state at n = 0, so the biggest contribution to the spectra will be the n = 0 $\\rightarrow$ n = 1 transition."
   ]
  },
  {
   "cell_type": "markdown",
   "metadata": {},
   "source": [
    "### 4. Do you expect NO to exhibit a Raman vibrational spectrum? Why or why not? If so, what initial and final vibrational states contribute most significantly to the spectrum?"
   ]
  },
  {
   "cell_type": "markdown",
   "metadata": {},
   "source": [
    "The Raman vibrational spectrum requires molecules have non-zero dynamic polarizability (homonuclear, not heteronuclear). Since NO is a heteronuclear diatomic (has a dipole) I would not expect it to have a Raman spectrum."
   ]
  },
  {
   "cell_type": "markdown",
   "metadata": {},
   "source": [
    "### 5. NO$_2$ readily forms from NO in the presence of oxygen. An infrared spectrum of NO$_2$ has three features, at 1318, 750, and 1618 cm$^{-1}$ . Is NO$_2$ a linear or bent molecule? Justify your answer."
   ]
  },
  {
   "cell_type": "markdown",
   "metadata": {},
   "source": [
    "Non-linear 3 atom molecule has 3n−6 = 3 vibrational modes. A linear molecule would have 3n−5 = 4 modes. Therefore NO$_2$ is bent."
   ]
  },
  {
   "cell_type": "markdown",
   "metadata": {},
   "source": [
    "## I see the light!"
   ]
  },
  {
   "cell_type": "markdown",
   "metadata": {},
   "source": [
    "### 6. What is the difference between stimulated absorption and stimulated emission? How do the intrinsic rates of these two processes compare?"
   ]
  },
  {
   "cell_type": "markdown",
   "metadata": {},
   "source": [
    "In stimulated adsorption the photon is adsorbed by the molecule so the energy level rises. In stimulated emission the photon stimulates a drop in energy which which causes an extra photon to be emitted. The rate of adsorption and emission have the same rate constant and are proportional to the populations of the energy levels they are being emitted/adsorbed from, which depend on the Boltzmann distribution."
   ]
  },
  {
   "cell_type": "markdown",
   "metadata": {},
   "source": [
    "### 7. Under which of Einstein’s categories does “fluorescence” belong? Fluorescence is often used to study transitions with energies of a couple eV or more (corresponding to visible or higher energy light), but seldom/never used to study infrared or similar low energy (fractions of an eV) processes. Give a couple reasons why."
   ]
  },
  {
   "cell_type": "markdown",
   "metadata": {},
   "source": [
    "Fluorescence is a form of spontaneous emission. (1) The rate constant for spontaneous emission is proportional to the cube of the energy gap; large energy differences give more rapid and easy to detect fluorescence; (2) in fluorescence you excite a system and then watch for it to spontaneously emit; large energy differences ensures that the state you excite into starts out empty. "
   ]
  },
  {
   "cell_type": "markdown",
   "metadata": {},
   "source": [
    "## Quantum mechanics of an H atom: \n",
    "### Consider an excited hydrogen atom with a 2s$^1$ electron configuration. The 2s radial wavefunction is given by $$R_{2,0} = \\frac{1}{\\sqrt{2a_0^3}}(1-\\rho/2)e^{-\\rho/2}, \\rho = r/a_0$$ where $a_0$ = bohr radius. (*Hint:* It’s easiest to solve the following using $a_0$ as the unit of length.)"
   ]
  },
  {
   "cell_type": "markdown",
   "metadata": {},
   "source": [
    "### 8. Provide a hand sketch of the 3-D shape of a 2s wavefunction (“orbital”). Be sure to indicate the *sign* of the wavefunction in each region and the location(s) of nodes. How many radial and how many angular nodes does a 2s electron orbital have?"
   ]
  },
  {
   "cell_type": "markdown",
   "metadata": {},
   "source": [
    "A 2s electron orbital has 1 radial node and 0 angular node. The graph is from http://www.grandinetti.org/electron-orbital-shapes."
   ]
  },
  {
   "cell_type": "markdown",
   "metadata": {},
   "source": [
    "![](http://www.grandinetti.org/resources/Teaching/Chem121/Lectures/OrbitalShapes/2sOrbital.gif)"
   ]
  },
  {
   "cell_type": "markdown",
   "metadata": {},
   "source": [
    "### 9. Plot the radial probability function $P_{20}(r) = r^2\\lvert R_{2,0}(r)\\rvert^2$. Be sure to label both axes appropriately. (*Hint:* Stick with $a_0$ as the length unit.)"
   ]
  },
  {
   "cell_type": "markdown",
   "metadata": {},
   "source": [
    "$P_{20}(r) = r^2\\lvert R_{2,0}(r)\\rvert^2 = r^2\\frac{1}{2a_0^3}(1-\\rho/2)^2e^{-\\rho} = \\frac{\\rho^2}{2}(1-\\rho/2)^2e^{-\\rho}\\frac{1}{a_0}$. Plot $\\frac{\\rho^2}{2}(1-\\rho/2)^2e^{-\\rho}$ vs $\\rho$, the unit of P is $\\frac{1}{a_0}$. The plot is shown in the solution of question number 5."
   ]
  },
  {
   "cell_type": "markdown",
   "metadata": {},
   "source": [
    "### 10. Determine and indicate on your plot $\\langle r\\rangle$, the expectation value of the distance of the electron from the nucleus."
   ]
  },
  {
   "cell_type": "markdown",
   "metadata": {},
   "source": [
    "$\\langle r\\rangle = \\int_{0}^{\\infty}rP_{20}dr = \\int_{0}^{\\infty}\\frac{\\rho^3}{2}(1-\\rho/2)^2e^{-\\rho}dr = a_0\\int_{0}^{\\infty}\\frac{\\rho^3}{2}(1-\\rho/2)^2e^{-\\rho}d\\rho$"
   ]
  },
  {
   "cell_type": "code",
   "execution_count": 4,
   "metadata": {},
   "outputs": [
    {
     "name": "stdout",
     "output_type": "stream",
     "text": [
      "6\n"
     ]
    }
   ],
   "source": [
    "from sympy import * \n",
    "rho = symbols('rho')\n",
    "I = integrate(rho**3/2*(1-rho/2)**2*exp(-rho),(rho,0,oo))\n",
    "print(I)"
   ]
  },
  {
   "cell_type": "markdown",
   "metadata": {},
   "source": [
    "The expectation value of the distance of the electron from the nucleus is 6$a_0$."
   ]
  },
  {
   "cell_type": "markdown",
   "metadata": {},
   "source": [
    "### 11. Determine and indicate on your plot  $r_{MP}$, the most probable distance of the electron from the nucleus."
   ]
  },
  {
   "cell_type": "markdown",
   "metadata": {},
   "source": [
    "Solve $\\frac{dP_{20}(r)}{dr} = 0$ to get $r_{MP}$."
   ]
  },
  {
   "cell_type": "code",
   "execution_count": 5,
   "metadata": {},
   "outputs": [
    {
     "name": "stdout",
     "output_type": "stream",
     "text": [
      "[0, 2, -sqrt(5) + 3, sqrt(5) + 3]\n"
     ]
    }
   ],
   "source": [
    "print(solve(diff(rho**2/2*(1-rho/2)**2*exp(-rho),rho),rho))"
   ]
  },
  {
   "cell_type": "markdown",
   "metadata": {},
   "source": [
    "The equation has 4 roots. We can calculate P to examine them."
   ]
  },
  {
   "cell_type": "code",
   "execution_count": 6,
   "metadata": {},
   "outputs": [
    {
     "name": "stdout",
     "output_type": "stream",
     "text": [
      "0\n",
      "0\n",
      "0.0519197619104005\n",
      "0.190967915526578\n"
     ]
    }
   ],
   "source": [
    "import numpy as np\n",
    "for rho in [0, 2, -np.sqrt(5)+3, np.sqrt(5)+3]:\n",
    "    print(rho**2/2*(1-rho/2)**2*exp(-rho))"
   ]
  },
  {
   "cell_type": "markdown",
   "metadata": {},
   "source": [
    "So, the most probable distance of the electron from the nucleus is $(\\sqrt{5}+3)a_0$."
   ]
  },
  {
   "cell_type": "markdown",
   "metadata": {},
   "source": [
    "### 12. Determine and indicate on your plot the maximum classical distance of the electron from the nucleus in this orbital."
   ]
  },
  {
   "cell_type": "markdown",
   "metadata": {},
   "source": [
    "We know that at the limit of the classical region in the 2s (or any other) orbital the potential energy of the electron’s location is equal to the total energy of the orbital. We remember that the energy of an orbital level N in the hydrogen atom is given by the following equation. $$E_N = -\\frac{\\hbar^2}{2m_ea_o^2}\\frac{1}{N^2}$$\n",
    "We compare this value to the potential energy term in the Hamiltonian operator. $$P.E.(r) = -\\frac{e^2}{4\\pi\\epsilon_0}\\frac{1}{r}$$\n",
    "Lastly, we set them equal to each other and solve for r. This will give us the distance from the nucleus at which the potential energy is equal to the total energy of the orbital. $$-\\frac{\\hbar^2}{2m_ea_o^2}\\frac{1}{N^2} = -\\frac{e^2}{4\\pi\\epsilon_0}\\frac{1}{r}$$\n",
    "We substitute in the bohr radius below, which yields the radial solution.$$a_0 = \\frac{4\\pi\\epsilon_0\\hbar^2}{m_ee^2}$$\n",
    "$$r = 8a_0$$\n",
    "Therefore, the forbidden region occurs for $r > 8a_0$."
   ]
  },
  {
   "cell_type": "code",
   "execution_count": 7,
   "metadata": {},
   "outputs": [
    {
     "data": {
      "image/png": "[encoded data removed]",
      "text/plain": [
       "<matplotlib.figure.Figure at 0x7feb0d1568d0>"
      ]
     },
     "metadata": {},
     "output_type": "display_data"
    }
   ],
   "source": [
    "import numpy as np\n",
    "import matplotlib.pyplot as plt\n",
    "\n",
    "rho = np.linspace(0,16,100)\n",
    "P = rho**2/2*(1-rho/2)**2*np.exp(-rho) # radial probability function\n",
    "plt.plot(rho,P,label='Probability')\n",
    "\n",
    "plt.xlim(0,16)\n",
    "plt.ylim(0,0.2)\n",
    "plt.xlabel('Distance From Nucleus $r/a_0$')\n",
    "plt.ylabel('Probability $1/a_0$')\n",
    "plt.title('Probability vs. Radius in the 2s Orbital for the Hydrogen Atom',fontsize = 'small')\n",
    "\n",
    "plt.axvline(x=6,color='r',linestyle='--',label='<r>') # draw a vertical dash line\n",
    "plt.axvline(x=3+np.sqrt(5),color='k',linestyle='--',label='Most Probable')\n",
    "plt.axvline(x=8,color='g',linestyle='--',label='Classical Limit')\n",
    "plt.legend(fontsize = 'small')\n",
    "plt.show()"
   ]
  },
  {
   "cell_type": "markdown",
   "metadata": {},
   "source": [
    "### 13. What is the probability of finding the electron beyond the classical distance? (Evaluate the necessary integral numerically.)"
   ]
  },
  {
   "cell_type": "markdown",
   "metadata": {},
   "source": [
    "The probability that the electron is in the forbidden region: $\\int_{8a_0}^{\\infty}P_{20}(r)dr = \\int_{8}^{\\infty}\\frac{\\rho^2}{2}(1-\\rho/2)^2e^{-\\rho}d\\rho$."
   ]
  },
  {
   "cell_type": "code",
   "execution_count": 8,
   "metadata": {},
   "outputs": [
    {
     "name": "stdout",
     "output_type": "stream",
     "text": [
      "553*exp(-8)\n"
     ]
    }
   ],
   "source": [
    "rho_ = symbols('rho_')\n",
    "I = integrate(rho_**2/2*(1-rho_/2)**2*exp(-rho_),(rho_,8,oo))\n",
    "print(I)"
   ]
  },
  {
   "cell_type": "code",
   "execution_count": 9,
   "metadata": {},
   "outputs": [
    {
     "name": "stdout",
     "output_type": "stream",
     "text": [
      "The probability that the electron is in the forbidden region is 0.186.\n"
     ]
    }
   ],
   "source": [
    "print('The probability that the electron is in the forbidden region is {0:.3f}.'.format(553*np.exp(-8)))"
   ]
  },
  {
   "cell_type": "markdown",
   "metadata": {},
   "source": [
    "### 14. Can a 2s electron undergo an allowed transition to a lower energy electronic state? If so, what frequency (in cm$^{-1}$) of light would be emitted?"
   ]
  },
  {
   "cell_type": "markdown",
   "metadata": {},
   "source": [
    "For an electron to transit between orbitals there must be a change of ±1 in l. The lower energy state for 2s is 1s. For any s orbital, l=0. So, a 2s electron is not allowed to jump to a lower energy electronic state."
   ]
  }
 ],
 "metadata": {
  "kernelspec": {
   "display_name": "Python 3",
   "language": "python",
   "name": "python3"
  },
  "language_info": {
   "codemirror_mode": {
    "name": "ipython",
    "version": 3
   },
   "file_extension": ".py",
   "mimetype": "text/x-python",
   "name": "python",
   "nbconvert_exporter": "python",
   "pygments_lexer": "ipython3",
   "version": "3.6.3"
  }
 },
 "nbformat": 4,
 "nbformat_minor": 2
}
