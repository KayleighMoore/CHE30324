{
 "cells": [
  {
   "cell_type": "markdown",
   "metadata": {},
   "source": [
    "# Chem 30324, Spring 2019, Homework 1 \n",
    "# Due on January 23, 2019"
   ]
  },
  {
   "cell_type": "markdown",
   "metadata": {},
   "source": [
    "## Problem 1: Discrete, probably\n",
    "### *In five card study, a poker player is dealt five cards from a standard deck of 52 cards.*"
   ]
  },
  {
   "cell_type": "markdown",
   "metadata": {},
   "source": [
    "### 1. How many different 5-card hands are there?  (Remember, in poker the order in which the cards are received does *not* matter.)"
   ]
  },
  {
   "cell_type": "markdown",
   "metadata": {},
   "source": [
    "### 2. What is the probability of being dealt four of a kind (a card of the same rank from each suit)?"
   ]
  },
  {
   "cell_type": "markdown",
   "metadata": {},
   "source": [
    "### 3. What is the probability of being dealt a flush (five cards of the same suit)?"
   ]
  },
  {
   "cell_type": "markdown",
   "metadata": {},
   "source": [
    "## Problem 2: Continuous, probably\n",
    "### The probability distribution function for a random variable $x$ is given by $P(x)=x e^{-2x}, 0\\le x < \\infty$."
   ]
  },
  {
   "cell_type": "markdown",
   "metadata": {},
   "source": [
    "### 1. Is $P(x)$ normalized?  If not, normalize it.  Plot the normalized $P(x)$."
   ]
  },
  {
   "cell_type": "markdown",
   "metadata": {},
   "source": [
    "### 2. What is the most probable value of $x$?"
   ]
  },
  {
   "cell_type": "markdown",
   "metadata": {},
   "source": [
    "### 3. What is the expectation value of $x$?"
   ]
  },
  {
   "cell_type": "markdown",
   "metadata": {},
   "source": [
    "### 4. What is the variance of $x$?"
   ]
  },
  {
   "cell_type": "markdown",
   "metadata": {},
   "source": [
    "## Problem 3: One rough night\n",
    "### It's late on a Friday night and people are stumbling up Notre Dame Ave. to their dorms. You observe one particularly impaired individual who is taking steps of equal length 1m to the north or south (i.e., in one dimension), with equal probability."
   ]
  },
  {
   "cell_type": "code",
   "execution_count": 6,
   "metadata": {},
   "outputs": [
    {
     "name": "stdout",
     "output_type": "stream",
     "text": [
      "total number of ways =  1048576.0\n",
      "Expectation value =  0.0\n"
     ]
    },
    {
     "data": {
      "image/png": "[encoded data removed]",
      "text/plain": [
       "<Figure size 432x288 with 1 Axes>"
      ]
     },
     "metadata": {
      "needs_background": "light"
     },
     "output_type": "display_data"
    },
    {
     "name": "stdout",
     "output_type": "stream",
     "text": [
      "P[-10]=0.014786,  P[0]=0.176197,  P[10]=0.014786\n"
     ]
    }
   ],
   "source": [
    "import math as m\n",
    "import matplotlib.pyplot as plt\n",
    "D=[];W=[]                # Initiate D for destination and W for number of ways (multiplicity/degeneracy)\n",
    "for i in range (-20,21): # 40 destinations span from North to South, so let range be -20 to 20+1 (python rule)\n",
    "    if i%2==1:           # Odd-numbered destination can't be reached in even-numbered steps\n",
    "        D.append(i);W.append(0) # Hence, number of ways equals zero\n",
    "    else:                       # For even-numbered destination, we have to use combination rule (mCn)\n",
    "        w=m.factorial(20)/(m.factorial(10+abs(i)/2)*m.factorial(10-abs(i)/2)); # Simple combination rule\n",
    "        D.append(i);W.append(w)                                                # Append results\n",
    "print(\"total number of ways = \", sum(W)) # Print the sum of ways (in all 40 destinations)\n",
    "P=[];E=[]                                # Initiate P for probability and E for expectation value\n",
    "for i in range (41):                     # Start another loop, indices can't be negative,... \n",
    "                                         # ...hence iterate from 0 to 40+1\n",
    "    P.append(W[i]/sum(W))                # Probability equals to \"ways/sum of ways\"\n",
    "    E.append(D[i]*P[i])                  # Store destination * destination's probability\n",
    "print(\"Expectation value = \", sum(E))    # Sum elements in E array to receive the expectation value\n",
    "plt.plot(D,P)          # Plot probability against indices (from 0 to 40)\n",
    "plt.show()             # Show plot, it's a must for a plot to show\n",
    "print(\"P[-10]=%f,  P[0]=%f,  P[10]=%f\"%(P[10],P[20],P[30]))   # Show probability of -20, 0 and 20"
   ]
  },
  {
   "cell_type": "markdown",
   "metadata": {},
   "source": [
    "### 1. What is the furthest distance the person could travel after 20 steps?\n",
    "#### Furthest distance is north/south 20steps"
   ]
  },
  {
   "cell_type": "markdown",
   "metadata": {},
   "source": [
    "### 2. What is the probability that the person won't have traveled any net distance at all after 20 steps?\n",
    "#### P[0] = 0.176197"
   ]
  },
  {
   "cell_type": "markdown",
   "metadata": {},
   "source": [
    "### 3. What is the probability that the person has traveled half the maximum distance after 20 steps?\n",
    "#### P[-10]=0.014786, P[10]=0.014786. \n",
    "#### Therefore, P[half the maximum distance]=P[-10]+P[10]=0.029572"
   ]
  },
  {
   "cell_type": "markdown",
   "metadata": {},
   "source": [
    "### 4. Plot the probability of traveling a given distance vs distance. Does the probability distribution look familiar?  You'll see it again when we talk about diffusion.\n",
    "\n",
    "#### The distribution curve looks similar to a Gaussian/Normal/Bell curve. However, it has fluctuations between odd and even numbers which makes it differs from a normal distribution."
   ]
  },
  {
   "cell_type": "markdown",
   "metadata": {},
   "source": [
    "## Problem 4: Now this is what I call equilibrium\n",
    "### The Boltzmann distribution tells us that, at thermal equilibrium, the probability of a particle having an energy $E$ is proportional to $\\exp(-E/k_\\text{B}T)$, where $k_\\text{B}$ is the Boltzmann constant.  Suppose a bunch of gas particles of mass $m$ are in thermal equilibrium at temperature $T$ and are traveling back and forth in one dimension with various velocities $v$ and kinetic energies $K=mv^2/2$."
   ]
  },
  {
   "cell_type": "markdown",
   "metadata": {},
   "source": [
    "### 1. What is the expectation value of the velocity $v$ of a particle?"
   ]
  },
  {
   "cell_type": "markdown",
   "metadata": {},
   "source": [
    "### 2. What is the expectation value of the kinetic energy $K$ of a particle? How does your answer depend on the particle mass? On temperature?"
   ]
  },
  {
   "cell_type": "code",
   "execution_count": null,
   "metadata": {
    "collapsed": true,
    "jupyter": {
     "outputs_hidden": true
    }
   },
   "outputs": [],
   "source": []
  }
 ],
 "metadata": {
  "anaconda-cloud": {},
  "celltoolbar": "Raw Cell Format",
  "kernelspec": {
   "display_name": "Python 3",
   "language": "python",
   "name": "python3"
  },
  "language_info": {
   "codemirror_mode": {
    "name": "ipython",
    "version": 3
   },
   "file_extension": ".py",
   "mimetype": "text/x-python",
   "name": "python",
   "nbconvert_exporter": "python",
   "pygments_lexer": "ipython3",
   "version": "3.7.1"
  }
 },
 "nbformat": 4,
 "nbformat_minor": 2
}
